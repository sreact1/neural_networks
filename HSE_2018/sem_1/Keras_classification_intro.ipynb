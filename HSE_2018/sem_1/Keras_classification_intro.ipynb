{
 "cells": [
  {
   "cell_type": "markdown",
   "metadata": {},
   "source": [
    "# Простейшие нейронные сети с Keras\n",
    "\n",
    "**ВНИМАНИЕ:** Чтобы работать с Keras, у вас уже должен быть установлен хотя бы один из фреймворков — Theano или Tensorflow.\n",
    "\n",
    "## 1. О данных и бэйзлайнах\n",
    "\n",
    "В этом задании нам доведётся построить несколько своих первых нейронных сетей для решения задачи классификации. Вам придётся так подобрать число нейронов, чтобы с одной стороны модель была не очень сложной и не переобучалась, а с другой стороны давала бы достаточно хороший прогноз. \n",
    "\n",
    "Делать всё это мы будем на животных. Ежегодно около 7.6 миллионов бедных животных в США оказываются в приютах. Часть из них находит себе новую семью, часть возвращается к старому (бывает, что питомец потерялся и его нашли на улице), а часть погибает. Ужегодно усыпляется около 2.7 млн. собак и кошек.  \n",
    "\n",
    "Используя датасет с входной информацией (цвет, пол, возраст и т.п.) из одного из приютов, мы попытаемся спрогнозировать что произойдёт с новыми животными, которые попадут в этот приют. Данные, используемые в тетрадке уже были предварительно обработаны и приведены в удобную для построения моделей форму. "
   ]
  },
  {
   "cell_type": "code",
   "execution_count": 1,
   "metadata": {},
   "outputs": [],
   "source": [
    "import numpy as np\n",
    "import pandas as pd\n",
    "import matplotlib.pyplot as plt\n",
    "\n",
    "plt.style.use('ggplot')\n",
    "%matplotlib inline"
   ]
  },
  {
   "cell_type": "code",
   "execution_count": 2,
   "metadata": {},
   "outputs": [
    {
     "name": "stdout",
     "output_type": "stream",
     "text": [
      "(26729, 37)\n",
      "(26729,)\n"
     ]
    },
    {
     "data": {
      "text/html": [
       "<div>\n",
       "<style scoped>\n",
       "    .dataframe tbody tr th:only-of-type {\n",
       "        vertical-align: middle;\n",
       "    }\n",
       "\n",
       "    .dataframe tbody tr th {\n",
       "        vertical-align: top;\n",
       "    }\n",
       "\n",
       "    .dataframe thead th {\n",
       "        text-align: right;\n",
       "    }\n",
       "</style>\n",
       "<table border=\"1\" class=\"dataframe\">\n",
       "  <thead>\n",
       "    <tr style=\"text-align: right;\">\n",
       "      <th></th>\n",
       "      <th>IsDog</th>\n",
       "      <th>Age</th>\n",
       "      <th>HasName</th>\n",
       "      <th>NameLength</th>\n",
       "      <th>NameFreq</th>\n",
       "      <th>MixColor</th>\n",
       "      <th>ColorFreqAsIs</th>\n",
       "      <th>ColorFreqBase</th>\n",
       "      <th>TabbyColor</th>\n",
       "      <th>MixBreed</th>\n",
       "      <th>...</th>\n",
       "      <th>SexStatus_Flawed</th>\n",
       "      <th>SexStatus_Intact</th>\n",
       "      <th>SexStatus_Unknown</th>\n",
       "      <th>Weekday_0</th>\n",
       "      <th>Weekday_1</th>\n",
       "      <th>Weekday_2</th>\n",
       "      <th>Weekday_3</th>\n",
       "      <th>Weekday_4</th>\n",
       "      <th>Weekday_5</th>\n",
       "      <th>Weekday_6</th>\n",
       "    </tr>\n",
       "  </thead>\n",
       "  <tbody>\n",
       "    <tr>\n",
       "      <th>0</th>\n",
       "      <td>1</td>\n",
       "      <td>365.0</td>\n",
       "      <td>1</td>\n",
       "      <td>7</td>\n",
       "      <td>0.000157</td>\n",
       "      <td>1</td>\n",
       "      <td>0.032919</td>\n",
       "      <td>0.463624</td>\n",
       "      <td>0</td>\n",
       "      <td>1</td>\n",
       "      <td>...</td>\n",
       "      <td>1</td>\n",
       "      <td>0</td>\n",
       "      <td>0</td>\n",
       "      <td>0</td>\n",
       "      <td>0</td>\n",
       "      <td>1</td>\n",
       "      <td>0</td>\n",
       "      <td>0</td>\n",
       "      <td>0</td>\n",
       "      <td>0</td>\n",
       "    </tr>\n",
       "    <tr>\n",
       "      <th>1</th>\n",
       "      <td>0</td>\n",
       "      <td>365.0</td>\n",
       "      <td>1</td>\n",
       "      <td>5</td>\n",
       "      <td>0.000655</td>\n",
       "      <td>0</td>\n",
       "      <td>0.008092</td>\n",
       "      <td>0.015005</td>\n",
       "      <td>1</td>\n",
       "      <td>1</td>\n",
       "      <td>...</td>\n",
       "      <td>1</td>\n",
       "      <td>0</td>\n",
       "      <td>0</td>\n",
       "      <td>0</td>\n",
       "      <td>0</td>\n",
       "      <td>0</td>\n",
       "      <td>0</td>\n",
       "      <td>0</td>\n",
       "      <td>0</td>\n",
       "      <td>1</td>\n",
       "    </tr>\n",
       "    <tr>\n",
       "      <th>2</th>\n",
       "      <td>1</td>\n",
       "      <td>730.0</td>\n",
       "      <td>1</td>\n",
       "      <td>6</td>\n",
       "      <td>0.000052</td>\n",
       "      <td>1</td>\n",
       "      <td>0.026293</td>\n",
       "      <td>0.357521</td>\n",
       "      <td>0</td>\n",
       "      <td>1</td>\n",
       "      <td>...</td>\n",
       "      <td>1</td>\n",
       "      <td>0</td>\n",
       "      <td>0</td>\n",
       "      <td>0</td>\n",
       "      <td>0</td>\n",
       "      <td>0</td>\n",
       "      <td>0</td>\n",
       "      <td>0</td>\n",
       "      <td>1</td>\n",
       "      <td>0</td>\n",
       "    </tr>\n",
       "    <tr>\n",
       "      <th>3</th>\n",
       "      <td>0</td>\n",
       "      <td>21.0</td>\n",
       "      <td>0</td>\n",
       "      <td>7</td>\n",
       "      <td>0.285871</td>\n",
       "      <td>0</td>\n",
       "      <td>0.000471</td>\n",
       "      <td>0.058418</td>\n",
       "      <td>0</td>\n",
       "      <td>1</td>\n",
       "      <td>...</td>\n",
       "      <td>0</td>\n",
       "      <td>1</td>\n",
       "      <td>0</td>\n",
       "      <td>0</td>\n",
       "      <td>0</td>\n",
       "      <td>0</td>\n",
       "      <td>0</td>\n",
       "      <td>1</td>\n",
       "      <td>0</td>\n",
       "      <td>0</td>\n",
       "    </tr>\n",
       "    <tr>\n",
       "      <th>4</th>\n",
       "      <td>1</td>\n",
       "      <td>730.0</td>\n",
       "      <td>0</td>\n",
       "      <td>7</td>\n",
       "      <td>0.285871</td>\n",
       "      <td>0</td>\n",
       "      <td>0.023831</td>\n",
       "      <td>0.075353</td>\n",
       "      <td>0</td>\n",
       "      <td>0</td>\n",
       "      <td>...</td>\n",
       "      <td>1</td>\n",
       "      <td>0</td>\n",
       "      <td>0</td>\n",
       "      <td>0</td>\n",
       "      <td>0</td>\n",
       "      <td>0</td>\n",
       "      <td>0</td>\n",
       "      <td>1</td>\n",
       "      <td>0</td>\n",
       "      <td>0</td>\n",
       "    </tr>\n",
       "  </tbody>\n",
       "</table>\n",
       "<p>5 rows × 37 columns</p>\n",
       "</div>"
      ],
      "text/plain": [
       "   IsDog    Age  HasName  NameLength  NameFreq  MixColor  ColorFreqAsIs  \\\n",
       "0      1  365.0        1           7  0.000157         1       0.032919   \n",
       "1      0  365.0        1           5  0.000655         0       0.008092   \n",
       "2      1  730.0        1           6  0.000052         1       0.026293   \n",
       "3      0   21.0        0           7  0.285871         0       0.000471   \n",
       "4      1  730.0        0           7  0.285871         0       0.023831   \n",
       "\n",
       "   ColorFreqBase  TabbyColor  MixBreed    ...      SexStatus_Flawed  \\\n",
       "0       0.463624           0         1    ...                     1   \n",
       "1       0.015005           1         1    ...                     1   \n",
       "2       0.357521           0         1    ...                     1   \n",
       "3       0.058418           0         1    ...                     0   \n",
       "4       0.075353           0         0    ...                     1   \n",
       "\n",
       "   SexStatus_Intact  SexStatus_Unknown  Weekday_0  Weekday_1  Weekday_2  \\\n",
       "0                 0                  0          0          0          1   \n",
       "1                 0                  0          0          0          0   \n",
       "2                 0                  0          0          0          0   \n",
       "3                 1                  0          0          0          0   \n",
       "4                 0                  0          0          0          0   \n",
       "\n",
       "   Weekday_3  Weekday_4  Weekday_5  Weekday_6  \n",
       "0          0          0          0          0  \n",
       "1          0          0          0          1  \n",
       "2          0          0          1          0  \n",
       "3          0          1          0          0  \n",
       "4          0          1          0          0  \n",
       "\n",
       "[5 rows x 37 columns]"
      ]
     },
     "execution_count": 2,
     "metadata": {},
     "output_type": "execute_result"
    }
   ],
   "source": [
    "X = pd.read_csv('datasets/X_cat.csv', sep = '\\t', index_col=0)\n",
    "outcome = pd.read_csv('datasets/y_cat.csv', sep = '\\t', index_col=0, header=-1)[1].get_values()\n",
    "print(X.shape)\n",
    "print(outcome.shape)\n",
    "X.head()"
   ]
  },
  {
   "cell_type": "markdown",
   "metadata": {},
   "source": [
    "В датасете находится около 27 тысяч наблюдений и 39 регрессоров. Посмотрим на то как выглядит распределение того, что произошло со зверятами по особям."
   ]
  },
  {
   "cell_type": "code",
   "execution_count": 3,
   "metadata": {},
   "outputs": [
    {
     "data": {
      "text/plain": [
       "Text(0.5,0,'Outcome Type')"
      ]
     },
     "execution_count": 3,
     "metadata": {},
     "output_type": "execute_result"
    },
    {
     "data": {
      "image/png": "[encoded data removed]",
      "text/plain": [
       "<matplotlib.figure.Figure at 0x105424a58>"
      ]
     },
     "metadata": {},
     "output_type": "display_data"
    }
   ],
   "source": [
    "plt.figure(figsize=(8,6))\n",
    "plt.hist(outcome)\n",
    "plt.xticks(rotation=0)\n",
    "plt.ylabel('Count', fontsize=14)\n",
    "plt.xlabel('Outcome Type', fontsize=14)"
   ]
  },
  {
   "cell_type": "markdown",
   "metadata": {},
   "source": [
    "Видим, что классы несбалансированы. Попробуем оставит четыре класса и объединить класс умерших животных с классом животных, которых усыпили. "
   ]
  },
  {
   "cell_type": "code",
   "execution_count": 4,
   "metadata": {},
   "outputs": [],
   "source": [
    "outcome[outcome == 'Died'] = 'Euthanasia'"
   ]
  },
  {
   "cell_type": "markdown",
   "metadata": {},
   "source": [
    "Закодируем классы."
   ]
  },
  {
   "cell_type": "code",
   "execution_count": 5,
   "metadata": {},
   "outputs": [
    {
     "data": {
      "text/plain": [
       "array([2, 1, 0, ..., 0, 3, 3])"
      ]
     },
     "execution_count": 5,
     "metadata": {},
     "output_type": "execute_result"
    }
   ],
   "source": [
    "from sklearn.preprocessing import LabelEncoder\n",
    "le = LabelEncoder()\n",
    "y = le.fit_transform(outcome)\n",
    "y"
   ]
  },
  {
   "cell_type": "code",
   "execution_count": 6,
   "metadata": {},
   "outputs": [
    {
     "data": {
      "text/plain": [
       "26729"
      ]
     },
     "execution_count": 6,
     "metadata": {},
     "output_type": "execute_result"
    }
   ],
   "source": [
    "len(y)"
   ]
  },
  {
   "cell_type": "code",
   "execution_count": 7,
   "metadata": {},
   "outputs": [
    {
     "data": {
      "text/plain": [
       "(26729, 37)"
      ]
     },
     "execution_count": 7,
     "metadata": {},
     "output_type": "execute_result"
    }
   ],
   "source": [
    "X.shape"
   ]
  },
  {
   "cell_type": "markdown",
   "metadata": {},
   "source": [
    "Построим ещё несколько красивых картинок, описывающих как класс животного зависит от его параметров. Раскрасим котов и собак в разные цвета. "
   ]
  },
  {
   "cell_type": "code",
   "execution_count": null,
   "metadata": {
    "scrolled": false
   },
   "outputs": [],
   "source": [
    "def jitter(arr):\n",
    "    return arr + np.random.uniform(low=-0.35, high=0.35, size=len(arr))\n",
    "\n",
    "plt.figure(figsize=(16, 36))\n",
    "for i in range (1, X.shape[1]):\n",
    "    plt.subplot(X.shape[1]//4, 4, i)\n",
    "    plt.scatter(jitter(y), jitter(X.ix[:, i]), c=X[\"IsDog\"], edgecolors=\"black\")\n",
    "    plt.xlabel('Outcome type', fontsize=14)\n",
    "    plt.ylabel(str(X.columns[i]), fontsize=14)"
   ]
  },
  {
   "cell_type": "markdown",
   "metadata": {},
   "source": [
    "Разобьём выборку на тренировочную и тестовую. "
   ]
  },
  {
   "cell_type": "code",
   "execution_count": 8,
   "metadata": {},
   "outputs": [
    {
     "name": "stdout",
     "output_type": "stream",
     "text": [
      "(21383, 37)\n",
      "(5346, 37)\n"
     ]
    },
    {
     "name": "stderr",
     "output_type": "stream",
     "text": [
      "/usr/local/lib/python3.6/site-packages/sklearn/cross_validation.py:41: DeprecationWarning: This module was deprecated in version 0.18 in favor of the model_selection module into which all the refactored classes and functions are moved. Also note that the interface of the new CV iterators are different from that of this module. This module will be removed in 0.20.\n",
      "  \"This module will be removed in 0.20.\", DeprecationWarning)\n"
     ]
    }
   ],
   "source": [
    "from sklearn.cross_validation import train_test_split\n",
    "\n",
    "X_train, X_test, y_train, y_test = train_test_split(X, y, test_size=0.2, stratify = y, random_state = 42)\n",
    "\n",
    "print(X_train.shape)\n",
    "print(X_test.shape)"
   ]
  },
  {
   "cell_type": "markdown",
   "metadata": {},
   "source": [
    "### Константный прогноз\n",
    "\n",
    "Построим константный прогноз, чтобы было с чем сравнивать и прогноз по какой-нибудь модели. "
   ]
  },
  {
   "cell_type": "code",
   "execution_count": 9,
   "metadata": {},
   "outputs": [
    {
     "data": {
      "text/plain": [
       "array([0.40289015, 0.0655661 , 0.17906748, 0.35247627])"
      ]
     },
     "execution_count": 9,
     "metadata": {},
     "output_type": "execute_result"
    }
   ],
   "source": [
    "from sklearn.metrics import log_loss\n",
    "\n",
    "probas = np.array(pd.Series(y_train).value_counts(normalize=True).sort_index().tolist())\n",
    "probas"
   ]
  },
  {
   "cell_type": "code",
   "execution_count": 10,
   "metadata": {},
   "outputs": [
    {
     "data": {
      "text/plain": [
       "1.2202552496487795"
      ]
     },
     "execution_count": 10,
     "metadata": {},
     "output_type": "execute_result"
    }
   ],
   "source": [
    "log_loss(y_test, np.tile(probas, X_test.shape[0]).reshape(X_test.shape[0], 4))"
   ]
  },
  {
   "cell_type": "markdown",
   "metadata": {},
   "source": [
    "## Логистическая регрессия"
   ]
  },
  {
   "cell_type": "code",
   "execution_count": 11,
   "metadata": {},
   "outputs": [
    {
     "data": {
      "text/plain": [
       "0.8941734842645639"
      ]
     },
     "execution_count": 11,
     "metadata": {},
     "output_type": "execute_result"
    }
   ],
   "source": [
    "from sklearn.linear_model import LogisticRegression\n",
    "\n",
    "logreg = LogisticRegression( )\n",
    "logreg.fit(X_train, y_train)\n",
    "log_loss(y_test, logreg.predict_proba(X_test))"
   ]
  },
  {
   "cell_type": "code",
   "execution_count": 12,
   "metadata": {},
   "outputs": [
    {
     "data": {
      "text/plain": [
       "array([[0.55047232, 0.02125922, 0.06170543, 0.36656303],\n",
       "       [0.55019364, 0.03224388, 0.28689911, 0.13066337],\n",
       "       [0.21835237, 0.05335936, 0.06728512, 0.66100314],\n",
       "       ...,\n",
       "       [0.67233488, 0.00709066, 0.22806096, 0.0925135 ],\n",
       "       [0.51913448, 0.03507788, 0.00377972, 0.44200791],\n",
       "       [0.71063719, 0.00756519, 0.17492977, 0.10686785]])"
      ]
     },
     "execution_count": 12,
     "metadata": {},
     "output_type": "execute_result"
    }
   ],
   "source": [
    "logreg.predict_proba(X_test)"
   ]
  },
  {
   "cell_type": "markdown",
   "metadata": {},
   "source": [
    "### Случайный лес "
   ]
  },
  {
   "cell_type": "code",
   "execution_count": 13,
   "metadata": {
    "scrolled": true
   },
   "outputs": [
    {
     "data": {
      "text/plain": [
       "0.7621819417072312"
      ]
     },
     "execution_count": 13,
     "metadata": {},
     "output_type": "execute_result"
    }
   ],
   "source": [
    "from sklearn.ensemble import RandomForestClassifier\n",
    "\n",
    "rf = RandomForestClassifier(n_estimators=1000, n_jobs=3)\n",
    "rf.fit(X_train, y_train)\n",
    "log_loss(y_test, rf.predict_proba(X_test))"
   ]
  },
  {
   "cell_type": "code",
   "execution_count": 14,
   "metadata": {},
   "outputs": [
    {
     "data": {
      "text/plain": [
       "array([[0.841, 0.01 , 0.018, 0.131],\n",
       "       [0.384, 0.072, 0.264, 0.28 ],\n",
       "       [0.516, 0.201, 0.084, 0.199],\n",
       "       ...,\n",
       "       [0.246, 0.003, 0.26 , 0.491],\n",
       "       [0.798, 0.028, 0.026, 0.148],\n",
       "       [0.823, 0.004, 0.123, 0.05 ]])"
      ]
     },
     "execution_count": 14,
     "metadata": {},
     "output_type": "execute_result"
    }
   ],
   "source": [
    "rf.predict_proba(X_test)"
   ]
  },
  {
   "cell_type": "markdown",
   "metadata": {},
   "source": [
    "Неплохой результат. Попробуем улучшить его с помошью нейросеток. "
   ]
  },
  {
   "cell_type": "markdown",
   "metadata": {},
   "source": [
    "## 2. Собираем свою нейросеть"
   ]
  },
  {
   "cell_type": "code",
   "execution_count": 15,
   "metadata": {},
   "outputs": [
    {
     "name": "stderr",
     "output_type": "stream",
     "text": [
      "/usr/local/lib/python3.6/site-packages/h5py/__init__.py:36: FutureWarning: Conversion of the second argument of issubdtype from `float` to `np.floating` is deprecated. In future, it will be treated as `np.float64 == np.dtype(float).type`.\n",
      "  from ._conv import register_converters as _register_converters\n",
      "Using TensorFlow backend.\n",
      "/usr/local/Cellar/python/3.6.4_4/Frameworks/Python.framework/Versions/3.6/lib/python3.6/importlib/_bootstrap.py:219: RuntimeWarning: compiletime version 3.5 of module 'tensorflow.python.framework.fast_tensor_util' does not match runtime version 3.6\n",
      "  return f(*args, **kwds)\n"
     ]
    }
   ],
   "source": [
    "import keras\n",
    "from keras.models import Sequential   # Последовательность слоёв\n",
    "import keras.layers as L              # Разные слои\n",
    "import keras.optimizers as opt        # Оптимизаторы\n",
    "from keras.utils.np_utils import to_categorical  # Для преобразования y в категориальный формат "
   ]
  },
  {
   "cell_type": "code",
   "execution_count": 16,
   "metadata": {},
   "outputs": [],
   "source": [
    "def get_new_model( ):\n",
    "    # Задаём модель и называем её ...\n",
    "    model = Sequential(name = 'Archibald')\n",
    "\n",
    "    # Добавляем в нашу модель первый слой из 25 нейронов\n",
    "    # На вход в эти 25 нейронов будут индти все наши регрессоры\n",
    "    model.add(L.Dense(25, input_dim = X_train.shape[1], kernel_initializer='random_normal'))\n",
    "\n",
    "    # Добавляем функцию активации на первый слой \n",
    "    model.add(L.Activation('sigmoid'))\n",
    "\n",
    "    # Добавляем ещё один слой из 25 нейронов\n",
    "    model.add(L.Dense(25, kernel_initializer='random_normal'))\n",
    "    model.add(L.Activation('sigmoid'))\n",
    "\n",
    "    # На выходе мы должны получить вероятности того, что объект относится к разным классам \n",
    "    # Сделать такое преобразование позволяет softmax как функция активации\n",
    "    # На выход будет идти 4 вероятности по числу классов\n",
    "    model.add(L.Dense(4, activation='softmax', kernel_initializer = 'random_normal'))\n",
    "\n",
    "    # В качестве оптимизации будем использовать Adam\n",
    "    optimizer = opt.Adam(lr=1e-3)\n",
    "\n",
    "    # Собираем модельa\n",
    "    model.compile(loss = 'categorical_crossentropy', metrics=[\"accuracy\"], optimizer=optimizer)\n",
    "    return model\n",
    "\n",
    "model = get_new_model( )"
   ]
  },
  {
   "cell_type": "markdown",
   "metadata": {},
   "source": [
    "Итак, только что мы собрали свою первую нейросеть с двумя скрытыми слоями.   Посмотрим сколько параметров нам предстоит оценить. "
   ]
  },
  {
   "cell_type": "code",
   "execution_count": 17,
   "metadata": {},
   "outputs": [
    {
     "name": "stdout",
     "output_type": "stream",
     "text": [
      "_________________________________________________________________\n",
      "Layer (type)                 Output Shape              Param #   \n",
      "=================================================================\n",
      "dense_1 (Dense)              (None, 25)                950       \n",
      "_________________________________________________________________\n",
      "activation_1 (Activation)    (None, 25)                0         \n",
      "_________________________________________________________________\n",
      "dense_2 (Dense)              (None, 25)                650       \n",
      "_________________________________________________________________\n",
      "activation_2 (Activation)    (None, 25)                0         \n",
      "_________________________________________________________________\n",
      "dense_3 (Dense)              (None, 4)                 104       \n",
      "=================================================================\n",
      "Total params: 1,704\n",
      "Trainable params: 1,704\n",
      "Non-trainable params: 0\n",
      "_________________________________________________________________\n"
     ]
    }
   ],
   "source": [
    "model.summary()"
   ]
  },
  {
   "cell_type": "markdown",
   "metadata": {},
   "source": [
    "Видим, что нужно оценить огромное количество параметров. На оценку каждого параметра придётся совсем маленькое количество наблюдений. "
   ]
  },
  {
   "cell_type": "code",
   "execution_count": 18,
   "metadata": {},
   "outputs": [
    {
     "data": {
      "text/plain": [
       "12.548708920187794"
      ]
     },
     "execution_count": 18,
     "metadata": {},
     "output_type": "execute_result"
    }
   ],
   "source": [
    "X_train.shape[0]/1704"
   ]
  },
  {
   "cell_type": "markdown",
   "metadata": {},
   "source": [
    "Отлично! Модель собрана. Осталось её обучить. Метод `fit` позволяет сделать это. Он принимает на вход обучаюзиую выборку `X_train, y_train`. Параметр  `batch_size` это  размер батча. Этот параметр ограничивает количество примеров, которое за раз подаётся в нашу нейронную сеть. Количиство эпох для обучения, `epochs`, это сичсло проходов модели по обучающей выборке. \n",
    "\n",
    "Обычно нейросетки обучаются довольно долго. В связи с этим обучать их на раздичных фолдах и оценивать качество работы модели на кросс-валидации не очень быстрое занятие, которое себе может позволить далеко не каждый. Для проверки качества обычно внутри обучения с помощью параметра `validation_split` часть выборки оставляют под валидацию, которая осуществляется после каждой эпохи. Как только качество на валидации начнёт падать, это будет означать, что модель переобучилаcь. \n",
    "\n",
    "Всё, что будет нам возвращать метод `.fit`, мы запишем в переменную `hist`. После обученя модели там окажется вся история ошибок на каждом шаге обучения. Отключить сообщения о том, на каком этапе обучения в данный момент находится модель, можно с параметром `verbose = 0`. Переменную $y$ для успешного обучения сетки нужно будет перевести в матрицу из дамми-переменных с помощью команды `to_categorical`. "
   ]
  },
  {
   "cell_type": "code",
   "execution_count": 19,
   "metadata": {},
   "outputs": [
    {
     "data": {
      "text/plain": [
       "array([[0., 0., 1., 0.],\n",
       "       [0., 1., 0., 0.],\n",
       "       [1., 0., 0., 0.],\n",
       "       ...,\n",
       "       [1., 0., 0., 0.],\n",
       "       [0., 0., 0., 1.],\n",
       "       [0., 0., 0., 1.]])"
      ]
     },
     "execution_count": 19,
     "metadata": {},
     "output_type": "execute_result"
    }
   ],
   "source": [
    "to_categorical(y)"
   ]
  },
  {
   "cell_type": "code",
   "execution_count": 25,
   "metadata": {
    "scrolled": true
   },
   "outputs": [
    {
     "name": "stdout",
     "output_type": "stream",
     "text": [
      "Train on 17106 samples, validate on 4277 samples\n",
      "Epoch 1/100\n",
      "17106/17106 [==============================] - 1s 47us/step - loss: 1.1337 - acc: 0.4236 - val_loss: 1.1344 - val_acc: 0.4171\n",
      "Epoch 2/100\n",
      "17106/17106 [==============================] - 1s 49us/step - loss: 1.1346 - acc: 0.4234 - val_loss: 1.1346 - val_acc: 0.4171\n",
      "Epoch 3/100\n",
      "17106/17106 [==============================] - 1s 48us/step - loss: 1.1333 - acc: 0.4244 - val_loss: 1.1312 - val_acc: 0.4171\n",
      "Epoch 4/100\n",
      "17106/17106 [==============================] - 1s 48us/step - loss: 1.1338 - acc: 0.4268 - val_loss: 1.1321 - val_acc: 0.4171\n",
      "Epoch 5/100\n",
      "17106/17106 [==============================] - 1s 46us/step - loss: 1.1336 - acc: 0.4286 - val_loss: 1.1310 - val_acc: 0.4227\n",
      "Epoch 6/100\n",
      "17106/17106 [==============================] - 1s 47us/step - loss: 1.1320 - acc: 0.4222 - val_loss: 1.1350 - val_acc: 0.4171\n",
      "Epoch 7/100\n",
      "17106/17106 [==============================] - 1s 47us/step - loss: 1.1376 - acc: 0.4197 - val_loss: 1.1368 - val_acc: 0.4178\n",
      "Epoch 8/100\n",
      "17106/17106 [==============================] - 1s 46us/step - loss: 1.1360 - acc: 0.4239 - val_loss: 1.1309 - val_acc: 0.4169\n",
      "Epoch 9/100\n",
      "17106/17106 [==============================] - 1s 47us/step - loss: 1.1327 - acc: 0.4256 - val_loss: 1.1347 - val_acc: 0.4171\n",
      "Epoch 10/100\n",
      "17106/17106 [==============================] - 1s 47us/step - loss: 1.1326 - acc: 0.4263 - val_loss: 1.1312 - val_acc: 0.4171\n",
      "Epoch 11/100\n",
      "17106/17106 [==============================] - 1s 49us/step - loss: 1.1319 - acc: 0.4262 - val_loss: 1.1302 - val_acc: 0.4171\n",
      "Epoch 12/100\n",
      "17106/17106 [==============================] - 1s 49us/step - loss: 1.1320 - acc: 0.4208 - val_loss: 1.1301 - val_acc: 0.4181\n",
      "Epoch 13/100\n",
      "17106/17106 [==============================] - 1s 50us/step - loss: 1.1329 - acc: 0.4230 - val_loss: 1.1319 - val_acc: 0.4199\n",
      "Epoch 14/100\n",
      "17106/17106 [==============================] - 1s 48us/step - loss: 1.1348 - acc: 0.4200 - val_loss: 1.1333 - val_acc: 0.4171\n",
      "Epoch 15/100\n",
      "17106/17106 [==============================] - 1s 48us/step - loss: 1.1339 - acc: 0.4221 - val_loss: 1.1309 - val_acc: 0.4171\n",
      "Epoch 16/100\n",
      "17106/17106 [==============================] - 1s 47us/step - loss: 1.1379 - acc: 0.4293 - val_loss: 1.1371 - val_acc: 0.4171\n",
      "Epoch 17/100\n",
      "17106/17106 [==============================] - 1s 47us/step - loss: 1.1392 - acc: 0.4192 - val_loss: 1.1355 - val_acc: 0.4171\n",
      "Epoch 18/100\n",
      "17106/17106 [==============================] - 1s 48us/step - loss: 1.1353 - acc: 0.4241 - val_loss: 1.1334 - val_acc: 0.4171\n",
      "Epoch 19/100\n",
      "17106/17106 [==============================] - 1s 50us/step - loss: 1.1374 - acc: 0.4246 - val_loss: 1.1335 - val_acc: 0.4103\n",
      "Epoch 20/100\n",
      "17106/17106 [==============================] - 1s 49us/step - loss: 1.1378 - acc: 0.4224 - val_loss: 1.1360 - val_acc: 0.4033\n",
      "Epoch 21/100\n",
      "17106/17106 [==============================] - 1s 49us/step - loss: 1.1359 - acc: 0.4172 - val_loss: 1.1354 - val_acc: 0.4171\n",
      "Epoch 22/100\n",
      "17106/17106 [==============================] - 1s 48us/step - loss: 1.1369 - acc: 0.4210 - val_loss: 1.1339 - val_acc: 0.4108\n",
      "Epoch 23/100\n",
      "17106/17106 [==============================] - 1s 49us/step - loss: 1.1362 - acc: 0.4222 - val_loss: 1.1368 - val_acc: 0.4171\n",
      "Epoch 24/100\n",
      "17106/17106 [==============================] - 1s 50us/step - loss: 1.1359 - acc: 0.4223 - val_loss: 1.1354 - val_acc: 0.4171\n",
      "Epoch 25/100\n",
      "17106/17106 [==============================] - 1s 48us/step - loss: 1.1372 - acc: 0.4234 - val_loss: 1.1347 - val_acc: 0.4159\n",
      "Epoch 26/100\n",
      "17106/17106 [==============================] - 1s 48us/step - loss: 1.1361 - acc: 0.4242 - val_loss: 1.1352 - val_acc: 0.4171\n",
      "Epoch 27/100\n",
      "17106/17106 [==============================] - 1s 49us/step - loss: 1.1377 - acc: 0.4235 - val_loss: 1.1352 - val_acc: 0.4171\n",
      "Epoch 28/100\n",
      "17106/17106 [==============================] - 1s 49us/step - loss: 1.1363 - acc: 0.4222 - val_loss: 1.1324 - val_acc: 0.4101\n",
      "Epoch 29/100\n",
      "17106/17106 [==============================] - 1s 48us/step - loss: 1.1346 - acc: 0.4263 - val_loss: 1.1331 - val_acc: 0.4171\n",
      "Epoch 30/100\n",
      "17106/17106 [==============================] - 1s 50us/step - loss: 1.1346 - acc: 0.4190 - val_loss: 1.1324 - val_acc: 0.4171\n",
      "Epoch 31/100\n",
      "17106/17106 [==============================] - 1s 48us/step - loss: 1.1340 - acc: 0.4251 - val_loss: 1.1302 - val_acc: 0.4272\n",
      "Epoch 32/100\n",
      "17106/17106 [==============================] - 1s 48us/step - loss: 1.1329 - acc: 0.4355 - val_loss: 1.1303 - val_acc: 0.4178\n",
      "Epoch 33/100\n",
      "17106/17106 [==============================] - 1s 46us/step - loss: 1.1332 - acc: 0.4303 - val_loss: 1.1354 - val_acc: 0.4171\n",
      "Epoch 34/100\n",
      "17106/17106 [==============================] - 1s 44us/step - loss: 1.1313 - acc: 0.4559 - val_loss: 1.1197 - val_acc: 0.4760\n",
      "Epoch 35/100\n",
      "17106/17106 [==============================] - 1s 44us/step - loss: 1.1130 - acc: 0.5001 - val_loss: 1.0937 - val_acc: 0.5057\n",
      "Epoch 36/100\n",
      "17106/17106 [==============================] - 1s 45us/step - loss: 1.0957 - acc: 0.5082 - val_loss: 1.0912 - val_acc: 0.4987\n",
      "Epoch 37/100\n",
      "17106/17106 [==============================] - 1s 45us/step - loss: 1.0912 - acc: 0.5078 - val_loss: 1.0779 - val_acc: 0.4968\n",
      "Epoch 38/100\n",
      "17106/17106 [==============================] - 1s 45us/step - loss: 1.0846 - acc: 0.5125 - val_loss: 1.0753 - val_acc: 0.5116\n",
      "Epoch 39/100\n",
      "17106/17106 [==============================] - 1s 45us/step - loss: 1.0867 - acc: 0.5094 - val_loss: 1.0760 - val_acc: 0.5127\n",
      "Epoch 40/100\n",
      "17106/17106 [==============================] - 1s 44us/step - loss: 1.0807 - acc: 0.5142 - val_loss: 1.0773 - val_acc: 0.5046\n",
      "Epoch 41/100\n",
      "17106/17106 [==============================] - 1s 45us/step - loss: 1.0810 - acc: 0.5141 - val_loss: 1.0803 - val_acc: 0.5104\n",
      "Epoch 42/100\n",
      "17106/17106 [==============================] - 1s 45us/step - loss: 1.0792 - acc: 0.5149 - val_loss: 1.0703 - val_acc: 0.5165\n",
      "Epoch 43/100\n",
      "17106/17106 [==============================] - 1s 45us/step - loss: 1.0792 - acc: 0.5157 - val_loss: 1.0693 - val_acc: 0.5148\n",
      "Epoch 44/100\n",
      "17106/17106 [==============================] - 1s 45us/step - loss: 1.0811 - acc: 0.5132 - val_loss: 1.0698 - val_acc: 0.5123\n",
      "Epoch 45/100\n",
      "17106/17106 [==============================] - 1s 45us/step - loss: 1.0782 - acc: 0.5153 - val_loss: 1.0690 - val_acc: 0.5123\n",
      "Epoch 46/100\n",
      "17106/17106 [==============================] - 1s 46us/step - loss: 1.0763 - acc: 0.5171 - val_loss: 1.0695 - val_acc: 0.5109\n",
      "Epoch 47/100\n",
      "17106/17106 [==============================] - 1s 47us/step - loss: 1.0764 - acc: 0.5186 - val_loss: 1.0604 - val_acc: 0.5102\n",
      "Epoch 48/100\n",
      "17106/17106 [==============================] - 1s 47us/step - loss: 1.0618 - acc: 0.5186 - val_loss: 1.0590 - val_acc: 0.5064\n",
      "Epoch 49/100\n",
      "17106/17106 [==============================] - 1s 46us/step - loss: 1.0600 - acc: 0.5175 - val_loss: 1.0533 - val_acc: 0.5109\n",
      "Epoch 50/100\n",
      "17106/17106 [==============================] - 1s 46us/step - loss: 1.0610 - acc: 0.5146 - val_loss: 1.0490 - val_acc: 0.5179\n",
      "Epoch 51/100\n",
      "17106/17106 [==============================] - 1s 46us/step - loss: 1.0661 - acc: 0.5173 - val_loss: 1.0648 - val_acc: 0.5151\n",
      "Epoch 52/100\n",
      "17106/17106 [==============================] - 1s 46us/step - loss: 1.0731 - acc: 0.5201 - val_loss: 1.0666 - val_acc: 0.5186\n",
      "Epoch 53/100\n",
      "17106/17106 [==============================] - 1s 46us/step - loss: 1.0732 - acc: 0.5188 - val_loss: 1.0636 - val_acc: 0.5200\n",
      "Epoch 54/100\n",
      "17106/17106 [==============================] - 1s 45us/step - loss: 1.0714 - acc: 0.5190 - val_loss: 1.0567 - val_acc: 0.5123\n",
      "Epoch 55/100\n",
      "17106/17106 [==============================] - 1s 45us/step - loss: 1.0734 - acc: 0.5153 - val_loss: 1.0633 - val_acc: 0.5151\n",
      "Epoch 56/100\n",
      "17106/17106 [==============================] - 1s 45us/step - loss: 1.0695 - acc: 0.5209 - val_loss: 1.0627 - val_acc: 0.5172\n",
      "Epoch 57/100\n",
      "17106/17106 [==============================] - 1s 46us/step - loss: 1.0707 - acc: 0.5211 - val_loss: 1.0636 - val_acc: 0.5240\n",
      "Epoch 58/100\n",
      "17106/17106 [==============================] - 1s 45us/step - loss: 1.0690 - acc: 0.5233 - val_loss: 1.0726 - val_acc: 0.5102\n",
      "Epoch 59/100\n"
     ]
    },
    {
     "name": "stdout",
     "output_type": "stream",
     "text": [
      "17106/17106 [==============================] - 1s 44us/step - loss: 1.0683 - acc: 0.5212 - val_loss: 1.0591 - val_acc: 0.5291\n",
      "Epoch 60/100\n",
      "17106/17106 [==============================] - 1s 44us/step - loss: 1.0650 - acc: 0.5257 - val_loss: 1.0858 - val_acc: 0.5184\n",
      "Epoch 61/100\n",
      "17106/17106 [==============================] - 1s 44us/step - loss: 1.0662 - acc: 0.5243 - val_loss: 1.0499 - val_acc: 0.5300\n",
      "Epoch 62/100\n",
      "17106/17106 [==============================] - 1s 45us/step - loss: 1.0636 - acc: 0.5287 - val_loss: 1.0623 - val_acc: 0.5298\n",
      "Epoch 63/100\n",
      "17106/17106 [==============================] - 1s 45us/step - loss: 1.0552 - acc: 0.5353 - val_loss: 1.0380 - val_acc: 0.5403\n",
      "Epoch 64/100\n",
      "17106/17106 [==============================] - 1s 45us/step - loss: 1.0055 - acc: 0.5747 - val_loss: 0.9988 - val_acc: 0.5915\n",
      "Epoch 65/100\n",
      "17106/17106 [==============================] - 1s 45us/step - loss: 0.9644 - acc: 0.6034 - val_loss: 0.9249 - val_acc: 0.6191\n",
      "Epoch 66/100\n",
      "17106/17106 [==============================] - 1s 45us/step - loss: 0.9507 - acc: 0.6095 - val_loss: 0.9329 - val_acc: 0.6180\n",
      "Epoch 67/100\n",
      "17106/17106 [==============================] - 1s 48us/step - loss: 0.9506 - acc: 0.6107 - val_loss: 0.9384 - val_acc: 0.6114\n",
      "Epoch 68/100\n",
      "17106/17106 [==============================] - 1s 49us/step - loss: 0.9451 - acc: 0.6124 - val_loss: 0.9271 - val_acc: 0.6191\n",
      "Epoch 69/100\n",
      "17106/17106 [==============================] - 1s 49us/step - loss: 0.9430 - acc: 0.6138 - val_loss: 0.9186 - val_acc: 0.6247\n",
      "Epoch 70/100\n",
      "17106/17106 [==============================] - 1s 49us/step - loss: 0.9417 - acc: 0.6144 - val_loss: 0.9242 - val_acc: 0.6149\n",
      "Epoch 71/100\n",
      "17106/17106 [==============================] - 1s 48us/step - loss: 0.9440 - acc: 0.6127 - val_loss: 0.9601 - val_acc: 0.6121\n",
      "Epoch 72/100\n",
      "17106/17106 [==============================] - 1s 48us/step - loss: 0.9442 - acc: 0.6160 - val_loss: 0.9206 - val_acc: 0.6257\n",
      "Epoch 73/100\n",
      "17106/17106 [==============================] - 1s 48us/step - loss: 0.9446 - acc: 0.6165 - val_loss: 0.9253 - val_acc: 0.6194\n",
      "Epoch 74/100\n",
      "17106/17106 [==============================] - 1s 47us/step - loss: 0.9412 - acc: 0.6166 - val_loss: 0.9316 - val_acc: 0.6187\n",
      "Epoch 75/100\n",
      "17106/17106 [==============================] - 1s 47us/step - loss: 0.9416 - acc: 0.6154 - val_loss: 0.9205 - val_acc: 0.6201\n",
      "Epoch 76/100\n",
      "17106/17106 [==============================] - 1s 47us/step - loss: 0.9466 - acc: 0.6153 - val_loss: 0.9260 - val_acc: 0.6236\n",
      "Epoch 77/100\n",
      "17106/17106 [==============================] - 1s 46us/step - loss: 0.9408 - acc: 0.6156 - val_loss: 0.9263 - val_acc: 0.6259\n",
      "Epoch 78/100\n",
      "17106/17106 [==============================] - 1s 46us/step - loss: 0.9424 - acc: 0.6149 - val_loss: 0.9293 - val_acc: 0.6215\n",
      "Epoch 79/100\n",
      "17106/17106 [==============================] - 1s 46us/step - loss: 0.9392 - acc: 0.6176 - val_loss: 0.9246 - val_acc: 0.6219\n",
      "Epoch 80/100\n",
      "17106/17106 [==============================] - 1s 47us/step - loss: 0.9403 - acc: 0.6174 - val_loss: 0.9269 - val_acc: 0.6243\n",
      "Epoch 81/100\n",
      "17106/17106 [==============================] - 1s 48us/step - loss: 0.9416 - acc: 0.6188 - val_loss: 0.9371 - val_acc: 0.6137\n",
      "Epoch 82/100\n",
      "17106/17106 [==============================] - 1s 47us/step - loss: 0.9425 - acc: 0.6132 - val_loss: 0.9267 - val_acc: 0.6210\n",
      "Epoch 83/100\n",
      "17106/17106 [==============================] - 1s 47us/step - loss: 0.9306 - acc: 0.6142 - val_loss: 0.9242 - val_acc: 0.6105\n",
      "Epoch 84/100\n",
      "17106/17106 [==============================] - 1s 47us/step - loss: 0.9285 - acc: 0.6120 - val_loss: 0.9629 - val_acc: 0.6210\n",
      "Epoch 85/100\n",
      "17106/17106 [==============================] - 1s 47us/step - loss: 0.9246 - acc: 0.6125 - val_loss: 0.9117 - val_acc: 0.6187\n",
      "Epoch 86/100\n",
      "17106/17106 [==============================] - 1s 47us/step - loss: 0.9212 - acc: 0.6140 - val_loss: 0.9210 - val_acc: 0.6208\n",
      "Epoch 87/100\n",
      "17106/17106 [==============================] - 1s 47us/step - loss: 0.9244 - acc: 0.6138 - val_loss: 0.9035 - val_acc: 0.6201\n",
      "Epoch 88/100\n",
      "17106/17106 [==============================] - 1s 47us/step - loss: 0.9243 - acc: 0.6122 - val_loss: 0.9355 - val_acc: 0.5990\n",
      "Epoch 89/100\n",
      "17106/17106 [==============================] - 1s 49us/step - loss: 0.9170 - acc: 0.6150 - val_loss: 0.9067 - val_acc: 0.6203\n",
      "Epoch 90/100\n",
      "17106/17106 [==============================] - 1s 47us/step - loss: 0.9198 - acc: 0.6157 - val_loss: 0.9049 - val_acc: 0.6170\n",
      "Epoch 91/100\n",
      "17106/17106 [==============================] - 1s 48us/step - loss: 0.9235 - acc: 0.6167 - val_loss: 0.9006 - val_acc: 0.6219\n",
      "Epoch 92/100\n",
      "17106/17106 [==============================] - 1s 47us/step - loss: 0.9188 - acc: 0.6149 - val_loss: 0.9030 - val_acc: 0.6238\n",
      "Epoch 93/100\n",
      "17106/17106 [==============================] - 1s 47us/step - loss: 0.9183 - acc: 0.6179 - val_loss: 0.8999 - val_acc: 0.6224\n",
      "Epoch 94/100\n",
      "17106/17106 [==============================] - 1s 47us/step - loss: 0.9258 - acc: 0.6061 - val_loss: 0.9161 - val_acc: 0.6133\n",
      "Epoch 95/100\n",
      "17106/17106 [==============================] - 1s 47us/step - loss: 0.9227 - acc: 0.6046 - val_loss: 0.9098 - val_acc: 0.6112\n",
      "Epoch 96/100\n",
      "17106/17106 [==============================] - 1s 47us/step - loss: 0.9208 - acc: 0.6049 - val_loss: 0.9193 - val_acc: 0.6100\n",
      "Epoch 97/100\n",
      "17106/17106 [==============================] - 1s 47us/step - loss: 0.9210 - acc: 0.6032 - val_loss: 0.9032 - val_acc: 0.6091\n",
      "Epoch 98/100\n",
      "17106/17106 [==============================] - 1s 47us/step - loss: 0.9260 - acc: 0.6026 - val_loss: 0.9115 - val_acc: 0.6077\n",
      "Epoch 99/100\n",
      "17106/17106 [==============================] - 1s 47us/step - loss: 0.9246 - acc: 0.6042 - val_loss: 0.9039 - val_acc: 0.6109\n",
      "Epoch 100/100\n",
      "17106/17106 [==============================] - 1s 47us/step - loss: 0.9220 - acc: 0.6055 - val_loss: 0.8993 - val_acc: 0.6114\n"
     ]
    }
   ],
   "source": [
    "hist = model.fit(X_train, to_categorical(y_train), validation_split=0.2, epochs=100, verbose=1)"
   ]
  },
  {
   "cell_type": "markdown",
   "metadata": {},
   "source": [
    "Посмотрим на динамику ошибок нашей модели во времени. "
   ]
  },
  {
   "cell_type": "code",
   "execution_count": 26,
   "metadata": {},
   "outputs": [
    {
     "data": {
      "text/plain": [
       "<matplotlib.legend.Legend at 0x16b47e320>"
      ]
     },
     "execution_count": 26,
     "metadata": {},
     "output_type": "execute_result"
    },
    {
     "data": {
      "image/png": "[encoded data removed]",
      "text/plain": [
       "<matplotlib.figure.Figure at 0x16a4717b8>"
      ]
     },
     "metadata": {},
     "output_type": "display_data"
    }
   ],
   "source": [
    "start = 1\n",
    "plt.plot(hist.history['loss'][start:])\n",
    "plt.plot(hist.history['val_loss'][start:])\n",
    "plt.legend(['Train loss', 'Validation loss'])"
   ]
  },
  {
   "cell_type": "markdown",
   "metadata": {},
   "source": [
    "Модель сходится довольно плохо. Функция потерь на валидации со временем начинает скакать. "
   ]
  },
  {
   "cell_type": "code",
   "execution_count": 22,
   "metadata": {},
   "outputs": [
    {
     "data": {
      "text/plain": [
       "array([[0.48386082, 0.03914756, 0.01863318, 0.4583584 ],\n",
       "       [0.45332178, 0.04693261, 0.13341437, 0.36633128],\n",
       "       [0.48386082, 0.03914758, 0.01863327, 0.45835823],\n",
       "       ...,\n",
       "       [0.45332178, 0.04693261, 0.13341437, 0.36633128],\n",
       "       [0.48386082, 0.03914747, 0.01863289, 0.45835882],\n",
       "       [0.48386088, 0.03914754, 0.01863314, 0.45835844]], dtype=float32)"
      ]
     },
     "execution_count": 22,
     "metadata": {},
     "output_type": "execute_result"
    }
   ],
   "source": [
    "# Можно предсказать вероятности для тестовой выборки\n",
    "model.predict_proba(X_test)"
   ]
  },
  {
   "cell_type": "code",
   "execution_count": 23,
   "metadata": {},
   "outputs": [
    {
     "data": {
      "text/plain": [
       "array([0, 0, 0, ..., 0, 0, 0])"
      ]
     },
     "execution_count": 23,
     "metadata": {},
     "output_type": "execute_result"
    }
   ],
   "source": [
    "# А можно классы \n",
    "model.predict_classes(X_test)"
   ]
  },
  {
   "cell_type": "code",
   "execution_count": 27,
   "metadata": {},
   "outputs": [
    {
     "data": {
      "text/plain": [
       "0.9240693842878602"
      ]
     },
     "execution_count": 27,
     "metadata": {},
     "output_type": "execute_result"
    }
   ],
   "source": [
    "# Можно найти logloss \n",
    "log_loss(y_test,model.predict_proba(X_test))"
   ]
  },
  {
   "cell_type": "code",
   "execution_count": null,
   "metadata": {},
   "outputs": [],
   "source": [
    "# Можно сохранить модель\n",
    "model.save(\"weights.h5\")"
   ]
  },
  {
   "cell_type": "code",
   "execution_count": 28,
   "metadata": {},
   "outputs": [
    {
     "name": "stdout",
     "output_type": "stream",
     "text": [
      "5346/5346 [==============================] - 0s 18us/step\n"
     ]
    },
    {
     "data": {
      "text/plain": [
       "[0.9240693743537528, 0.6054994388327721]"
      ]
     },
     "execution_count": 28,
     "metadata": {},
     "output_type": "execute_result"
    }
   ],
   "source": [
    "# Можно посмотреть на качество модели по всем указанным при коммпиляции метрикам. \n",
    "score = model.evaluate(X_test, to_categorical(y_test))\n",
    "score "
   ]
  },
  {
   "cell_type": "markdown",
   "metadata": {},
   "source": [
    "Вспомним про такую замечательную штуку как нормальзация и посмотрим насколько она улучшит скорость обучения и качество модели. Заодно увеличим количество эпох. Ударим двойным кулаком по плохой сходимости. "
   ]
  },
  {
   "cell_type": "code",
   "execution_count": 30,
   "metadata": {
    "scrolled": true
   },
   "outputs": [
    {
     "name": "stdout",
     "output_type": "stream",
     "text": [
      "Train on 17106 samples, validate on 4277 samples\n",
      "Epoch 1/100\n",
      "17106/17106 [==============================] - 1s 67us/step - loss: 1.1234 - acc: 0.5279 - val_loss: 0.9733 - val_acc: 0.6037\n",
      "Epoch 2/100\n",
      "17106/17106 [==============================] - 1s 48us/step - loss: 0.9424 - acc: 0.6160 - val_loss: 0.8958 - val_acc: 0.6296\n",
      "Epoch 3/100\n",
      "17106/17106 [==============================] - 1s 47us/step - loss: 0.8935 - acc: 0.6340 - val_loss: 0.8769 - val_acc: 0.6451\n",
      "Epoch 4/100\n",
      "17106/17106 [==============================] - 1s 47us/step - loss: 0.8840 - acc: 0.6393 - val_loss: 0.8725 - val_acc: 0.6458\n",
      "Epoch 5/100\n",
      "17106/17106 [==============================] - 1s 47us/step - loss: 0.8782 - acc: 0.6405 - val_loss: 0.8661 - val_acc: 0.6469\n",
      "Epoch 6/100\n",
      "17106/17106 [==============================] - 1s 47us/step - loss: 0.8729 - acc: 0.6427 - val_loss: 0.8611 - val_acc: 0.6430\n",
      "Epoch 7/100\n",
      "17106/17106 [==============================] - 1s 47us/step - loss: 0.8683 - acc: 0.6430 - val_loss: 0.8565 - val_acc: 0.6472\n",
      "Epoch 8/100\n",
      "17106/17106 [==============================] - 1s 48us/step - loss: 0.8638 - acc: 0.6446 - val_loss: 0.8533 - val_acc: 0.6458\n",
      "Epoch 9/100\n",
      "17106/17106 [==============================] - 1s 48us/step - loss: 0.8591 - acc: 0.6458 - val_loss: 0.8503 - val_acc: 0.6472\n",
      "Epoch 10/100\n",
      "17106/17106 [==============================] - 1s 48us/step - loss: 0.8546 - acc: 0.6445 - val_loss: 0.8451 - val_acc: 0.6474\n",
      "Epoch 11/100\n",
      "17106/17106 [==============================] - 1s 47us/step - loss: 0.8506 - acc: 0.6474 - val_loss: 0.8406 - val_acc: 0.6523\n",
      "Epoch 12/100\n",
      "17106/17106 [==============================] - 1s 47us/step - loss: 0.8474 - acc: 0.6488 - val_loss: 0.8397 - val_acc: 0.6565\n",
      "Epoch 13/100\n",
      "17106/17106 [==============================] - 1s 47us/step - loss: 0.8438 - acc: 0.6509 - val_loss: 0.8361 - val_acc: 0.6549\n",
      "Epoch 14/100\n",
      "17106/17106 [==============================] - 1s 48us/step - loss: 0.8409 - acc: 0.6516 - val_loss: 0.8338 - val_acc: 0.6561\n",
      "Epoch 15/100\n",
      "17106/17106 [==============================] - 1s 47us/step - loss: 0.8380 - acc: 0.6526 - val_loss: 0.8325 - val_acc: 0.6558\n",
      "Epoch 16/100\n",
      "17106/17106 [==============================] - 1s 47us/step - loss: 0.8347 - acc: 0.6524 - val_loss: 0.8309 - val_acc: 0.6591\n",
      "Epoch 17/100\n",
      "17106/17106 [==============================] - 1s 47us/step - loss: 0.8327 - acc: 0.6546 - val_loss: 0.8273 - val_acc: 0.6558\n",
      "Epoch 18/100\n",
      "17106/17106 [==============================] - 1s 47us/step - loss: 0.8298 - acc: 0.6561 - val_loss: 0.8248 - val_acc: 0.6619\n",
      "Epoch 19/100\n",
      "17106/17106 [==============================] - 1s 47us/step - loss: 0.8271 - acc: 0.6553 - val_loss: 0.8239 - val_acc: 0.6591\n",
      "Epoch 20/100\n",
      "17106/17106 [==============================] - 1s 48us/step - loss: 0.8251 - acc: 0.6571 - val_loss: 0.8227 - val_acc: 0.6626\n",
      "Epoch 21/100\n",
      "17106/17106 [==============================] - 1s 48us/step - loss: 0.8227 - acc: 0.6582 - val_loss: 0.8216 - val_acc: 0.6600\n",
      "Epoch 22/100\n",
      "17106/17106 [==============================] - 1s 48us/step - loss: 0.8200 - acc: 0.6581 - val_loss: 0.8188 - val_acc: 0.6607\n",
      "Epoch 23/100\n",
      "17106/17106 [==============================] - 1s 47us/step - loss: 0.8177 - acc: 0.6599 - val_loss: 0.8184 - val_acc: 0.6610\n",
      "Epoch 24/100\n",
      "17106/17106 [==============================] - 1s 47us/step - loss: 0.8160 - acc: 0.6589 - val_loss: 0.8178 - val_acc: 0.6624\n",
      "Epoch 25/100\n",
      "17106/17106 [==============================] - 1s 47us/step - loss: 0.8138 - acc: 0.6608 - val_loss: 0.8167 - val_acc: 0.6626\n",
      "Epoch 26/100\n",
      "17106/17106 [==============================] - 1s 48us/step - loss: 0.8118 - acc: 0.6615 - val_loss: 0.8137 - val_acc: 0.6631\n",
      "Epoch 27/100\n",
      "17106/17106 [==============================] - 1s 47us/step - loss: 0.8099 - acc: 0.6624 - val_loss: 0.8137 - val_acc: 0.6624\n",
      "Epoch 28/100\n",
      "17106/17106 [==============================] - 1s 48us/step - loss: 0.8080 - acc: 0.6630 - val_loss: 0.8103 - val_acc: 0.6657\n",
      "Epoch 29/100\n",
      "17106/17106 [==============================] - 1s 47us/step - loss: 0.8067 - acc: 0.6633 - val_loss: 0.8108 - val_acc: 0.6638\n",
      "Epoch 30/100\n",
      "17106/17106 [==============================] - 1s 47us/step - loss: 0.8040 - acc: 0.6650 - val_loss: 0.8102 - val_acc: 0.6664\n",
      "Epoch 31/100\n",
      "17106/17106 [==============================] - 1s 47us/step - loss: 0.8029 - acc: 0.6648 - val_loss: 0.8117 - val_acc: 0.6612\n",
      "Epoch 32/100\n",
      "17106/17106 [==============================] - 1s 47us/step - loss: 0.8010 - acc: 0.6663 - val_loss: 0.8076 - val_acc: 0.6689\n",
      "Epoch 33/100\n",
      "17106/17106 [==============================] - 1s 48us/step - loss: 0.8001 - acc: 0.6644 - val_loss: 0.8090 - val_acc: 0.6643\n",
      "Epoch 34/100\n",
      "17106/17106 [==============================] - 1s 48us/step - loss: 0.7981 - acc: 0.6654 - val_loss: 0.8091 - val_acc: 0.6685\n",
      "Epoch 35/100\n",
      "17106/17106 [==============================] - 1s 48us/step - loss: 0.7965 - acc: 0.6680 - val_loss: 0.8117 - val_acc: 0.6619\n",
      "Epoch 36/100\n",
      "17106/17106 [==============================] - 1s 48us/step - loss: 0.7953 - acc: 0.6684 - val_loss: 0.8088 - val_acc: 0.6685\n",
      "Epoch 37/100\n",
      "17106/17106 [==============================] - 1s 48us/step - loss: 0.7943 - acc: 0.6681 - val_loss: 0.8042 - val_acc: 0.6664\n",
      "Epoch 38/100\n",
      "17106/17106 [==============================] - 1s 48us/step - loss: 0.7920 - acc: 0.6684 - val_loss: 0.8033 - val_acc: 0.6689\n",
      "Epoch 39/100\n",
      "17106/17106 [==============================] - 1s 47us/step - loss: 0.7910 - acc: 0.6695 - val_loss: 0.8035 - val_acc: 0.6675\n",
      "Epoch 40/100\n",
      "17106/17106 [==============================] - 1s 47us/step - loss: 0.7900 - acc: 0.6713 - val_loss: 0.8053 - val_acc: 0.6640\n",
      "Epoch 41/100\n",
      "17106/17106 [==============================] - 1s 48us/step - loss: 0.7892 - acc: 0.6699 - val_loss: 0.8023 - val_acc: 0.6652\n",
      "Epoch 42/100\n",
      "17106/17106 [==============================] - 1s 47us/step - loss: 0.7879 - acc: 0.6704 - val_loss: 0.8029 - val_acc: 0.6673\n",
      "Epoch 43/100\n",
      "17106/17106 [==============================] - 1s 48us/step - loss: 0.7863 - acc: 0.6715 - val_loss: 0.8022 - val_acc: 0.6645\n",
      "Epoch 44/100\n",
      "17106/17106 [==============================] - 1s 48us/step - loss: 0.7846 - acc: 0.6746 - val_loss: 0.8016 - val_acc: 0.6675\n",
      "Epoch 45/100\n",
      "17106/17106 [==============================] - 1s 49us/step - loss: 0.7844 - acc: 0.6712 - val_loss: 0.8017 - val_acc: 0.6659\n",
      "Epoch 46/100\n",
      "17106/17106 [==============================] - 1s 48us/step - loss: 0.7832 - acc: 0.6712 - val_loss: 0.8021 - val_acc: 0.6668\n",
      "Epoch 47/100\n",
      "17106/17106 [==============================] - 1s 48us/step - loss: 0.7818 - acc: 0.6727 - val_loss: 0.8010 - val_acc: 0.6659\n",
      "Epoch 48/100\n",
      "17106/17106 [==============================] - 1s 48us/step - loss: 0.7816 - acc: 0.6755 - val_loss: 0.8015 - val_acc: 0.6652\n",
      "Epoch 49/100\n",
      "17106/17106 [==============================] - 1s 48us/step - loss: 0.7805 - acc: 0.6747 - val_loss: 0.8015 - val_acc: 0.6685\n",
      "Epoch 50/100\n",
      "17106/17106 [==============================] - 1s 48us/step - loss: 0.7786 - acc: 0.6743 - val_loss: 0.8035 - val_acc: 0.6671\n",
      "Epoch 51/100\n",
      "17106/17106 [==============================] - 1s 48us/step - loss: 0.7790 - acc: 0.6733 - val_loss: 0.8023 - val_acc: 0.6703\n",
      "Epoch 52/100\n",
      "17106/17106 [==============================] - 1s 48us/step - loss: 0.7773 - acc: 0.6758 - val_loss: 0.8040 - val_acc: 0.6647\n",
      "Epoch 53/100\n",
      "17106/17106 [==============================] - 1s 48us/step - loss: 0.7767 - acc: 0.6768 - val_loss: 0.8013 - val_acc: 0.6645\n",
      "Epoch 54/100\n",
      "17106/17106 [==============================] - 1s 48us/step - loss: 0.7762 - acc: 0.6757 - val_loss: 0.7995 - val_acc: 0.6661\n",
      "Epoch 55/100\n",
      "17106/17106 [==============================] - 1s 48us/step - loss: 0.7751 - acc: 0.6764 - val_loss: 0.7992 - val_acc: 0.6694\n",
      "Epoch 56/100\n",
      "17106/17106 [==============================] - 1s 47us/step - loss: 0.7744 - acc: 0.6764 - val_loss: 0.8021 - val_acc: 0.6640\n",
      "Epoch 57/100\n",
      "17106/17106 [==============================] - 1s 49us/step - loss: 0.7734 - acc: 0.6754 - val_loss: 0.8011 - val_acc: 0.6643\n",
      "Epoch 58/100\n",
      "17106/17106 [==============================] - 1s 50us/step - loss: 0.7728 - acc: 0.6787 - val_loss: 0.8009 - val_acc: 0.6635\n",
      "Epoch 59/100\n"
     ]
    },
    {
     "name": "stdout",
     "output_type": "stream",
     "text": [
      "17106/17106 [==============================] - 1s 46us/step - loss: 0.7724 - acc: 0.6771 - val_loss: 0.7997 - val_acc: 0.6671\n",
      "Epoch 60/100\n",
      "17106/17106 [==============================] - 1s 47us/step - loss: 0.7715 - acc: 0.6788 - val_loss: 0.8000 - val_acc: 0.6673\n",
      "Epoch 61/100\n",
      "17106/17106 [==============================] - 1s 48us/step - loss: 0.7709 - acc: 0.6779 - val_loss: 0.8001 - val_acc: 0.6664\n",
      "Epoch 62/100\n",
      "17106/17106 [==============================] - 1s 48us/step - loss: 0.7701 - acc: 0.6778 - val_loss: 0.8034 - val_acc: 0.6635\n",
      "Epoch 63/100\n",
      "17106/17106 [==============================] - 1s 49us/step - loss: 0.7693 - acc: 0.6799 - val_loss: 0.8011 - val_acc: 0.6650\n",
      "Epoch 64/100\n",
      "17106/17106 [==============================] - 1s 50us/step - loss: 0.7685 - acc: 0.6794 - val_loss: 0.8005 - val_acc: 0.6624\n",
      "Epoch 65/100\n",
      "17106/17106 [==============================] - 1s 49us/step - loss: 0.7683 - acc: 0.6788 - val_loss: 0.8009 - val_acc: 0.6631\n",
      "Epoch 66/100\n",
      "17106/17106 [==============================] - 1s 50us/step - loss: 0.7677 - acc: 0.6801 - val_loss: 0.7996 - val_acc: 0.6633\n",
      "Epoch 67/100\n",
      "17106/17106 [==============================] - 1s 49us/step - loss: 0.7669 - acc: 0.6803 - val_loss: 0.7993 - val_acc: 0.6633\n",
      "Epoch 68/100\n",
      "17106/17106 [==============================] - 1s 49us/step - loss: 0.7663 - acc: 0.6816 - val_loss: 0.8006 - val_acc: 0.6607\n",
      "Epoch 69/100\n",
      "17106/17106 [==============================] - 1s 50us/step - loss: 0.7661 - acc: 0.6799 - val_loss: 0.8018 - val_acc: 0.6638\n",
      "Epoch 70/100\n",
      "17106/17106 [==============================] - 1s 50us/step - loss: 0.7655 - acc: 0.6809 - val_loss: 0.8007 - val_acc: 0.6626\n",
      "Epoch 71/100\n",
      "17106/17106 [==============================] - 1s 49us/step - loss: 0.7648 - acc: 0.6816 - val_loss: 0.8009 - val_acc: 0.6610\n",
      "Epoch 72/100\n",
      "17106/17106 [==============================] - 1s 49us/step - loss: 0.7636 - acc: 0.6820 - val_loss: 0.7998 - val_acc: 0.6624\n",
      "Epoch 73/100\n",
      "17106/17106 [==============================] - 1s 47us/step - loss: 0.7634 - acc: 0.6810 - val_loss: 0.8014 - val_acc: 0.6621\n",
      "Epoch 74/100\n",
      "17106/17106 [==============================] - 1s 47us/step - loss: 0.7630 - acc: 0.6816 - val_loss: 0.8011 - val_acc: 0.6605\n",
      "Epoch 75/100\n",
      "17106/17106 [==============================] - 1s 47us/step - loss: 0.7627 - acc: 0.6815 - val_loss: 0.7995 - val_acc: 0.6610\n",
      "Epoch 76/100\n",
      "17106/17106 [==============================] - 1s 47us/step - loss: 0.7616 - acc: 0.6827 - val_loss: 0.8041 - val_acc: 0.6635\n",
      "Epoch 77/100\n",
      "17106/17106 [==============================] - 1s 48us/step - loss: 0.7614 - acc: 0.6822 - val_loss: 0.8003 - val_acc: 0.6617\n",
      "Epoch 78/100\n",
      "17106/17106 [==============================] - 1s 48us/step - loss: 0.7608 - acc: 0.6820 - val_loss: 0.8015 - val_acc: 0.6614\n",
      "Epoch 79/100\n",
      "17106/17106 [==============================] - 1s 47us/step - loss: 0.7601 - acc: 0.6821 - val_loss: 0.7999 - val_acc: 0.6635\n",
      "Epoch 80/100\n",
      "17106/17106 [==============================] - 1s 48us/step - loss: 0.7594 - acc: 0.6829 - val_loss: 0.8006 - val_acc: 0.6610\n",
      "Epoch 81/100\n",
      "17106/17106 [==============================] - 1s 47us/step - loss: 0.7591 - acc: 0.6829 - val_loss: 0.8021 - val_acc: 0.6619\n",
      "Epoch 82/100\n",
      "17106/17106 [==============================] - 1s 48us/step - loss: 0.7582 - acc: 0.6817 - val_loss: 0.8012 - val_acc: 0.6572\n",
      "Epoch 83/100\n",
      "17106/17106 [==============================] - 1s 47us/step - loss: 0.7579 - acc: 0.6825 - val_loss: 0.7998 - val_acc: 0.6593\n",
      "Epoch 84/100\n",
      "17106/17106 [==============================] - 1s 47us/step - loss: 0.7579 - acc: 0.6836 - val_loss: 0.8018 - val_acc: 0.6631\n",
      "Epoch 85/100\n",
      "17106/17106 [==============================] - 1s 47us/step - loss: 0.7577 - acc: 0.6821 - val_loss: 0.8010 - val_acc: 0.6638\n",
      "Epoch 86/100\n",
      "17106/17106 [==============================] - 1s 47us/step - loss: 0.7567 - acc: 0.6826 - val_loss: 0.8034 - val_acc: 0.6584\n",
      "Epoch 87/100\n",
      "17106/17106 [==============================] - 1s 46us/step - loss: 0.7567 - acc: 0.6827 - val_loss: 0.8031 - val_acc: 0.6626\n",
      "Epoch 88/100\n",
      "17106/17106 [==============================] - 1s 47us/step - loss: 0.7557 - acc: 0.6816 - val_loss: 0.8004 - val_acc: 0.6614\n",
      "Epoch 89/100\n",
      "17106/17106 [==============================] - 1s 47us/step - loss: 0.7556 - acc: 0.6833 - val_loss: 0.8001 - val_acc: 0.6579\n",
      "Epoch 90/100\n",
      "17106/17106 [==============================] - 1s 48us/step - loss: 0.7544 - acc: 0.6847 - val_loss: 0.8014 - val_acc: 0.6568\n",
      "Epoch 91/100\n",
      "17106/17106 [==============================] - 1s 48us/step - loss: 0.7550 - acc: 0.6831 - val_loss: 0.8039 - val_acc: 0.6565\n",
      "Epoch 92/100\n",
      "17106/17106 [==============================] - 1s 48us/step - loss: 0.7541 - acc: 0.6843 - val_loss: 0.8013 - val_acc: 0.6589\n",
      "Epoch 93/100\n",
      "17106/17106 [==============================] - 1s 48us/step - loss: 0.7540 - acc: 0.6837 - val_loss: 0.8016 - val_acc: 0.6621\n",
      "Epoch 94/100\n",
      "17106/17106 [==============================] - 1s 50us/step - loss: 0.7526 - acc: 0.6819 - val_loss: 0.8017 - val_acc: 0.6619\n",
      "Epoch 95/100\n",
      "17106/17106 [==============================] - 1s 48us/step - loss: 0.7530 - acc: 0.6851 - val_loss: 0.8021 - val_acc: 0.6554\n",
      "Epoch 96/100\n",
      "17106/17106 [==============================] - 1s 47us/step - loss: 0.7526 - acc: 0.6843 - val_loss: 0.8007 - val_acc: 0.6633\n",
      "Epoch 97/100\n",
      "17106/17106 [==============================] - 1s 48us/step - loss: 0.7519 - acc: 0.6857 - val_loss: 0.8016 - val_acc: 0.6624\n",
      "Epoch 98/100\n",
      "17106/17106 [==============================] - 1s 48us/step - loss: 0.7516 - acc: 0.6862 - val_loss: 0.8018 - val_acc: 0.6593\n",
      "Epoch 99/100\n",
      "17106/17106 [==============================] - 1s 48us/step - loss: 0.7514 - acc: 0.6854 - val_loss: 0.8024 - val_acc: 0.6575\n",
      "Epoch 100/100\n",
      "17106/17106 [==============================] - 1s 48us/step - loss: 0.7515 - acc: 0.6842 - val_loss: 0.8006 - val_acc: 0.6612\n"
     ]
    }
   ],
   "source": [
    "from sklearn.preprocessing import StandardScaler\n",
    "ss = StandardScaler()\n",
    "\n",
    "model = get_new_model( ) # Сбросим старые результаты обучения \n",
    "hist = model.fit(ss.fit_transform(X_train), to_categorical(y_train), validation_split=0.2, epochs=100, verbose=1)"
   ]
  },
  {
   "cell_type": "code",
   "execution_count": 31,
   "metadata": {},
   "outputs": [
    {
     "data": {
      "text/plain": [
       "<matplotlib.legend.Legend at 0x16d9b4a90>"
      ]
     },
     "execution_count": 31,
     "metadata": {},
     "output_type": "execute_result"
    },
    {
     "data": {
      "image/png": "[encoded data removed]",
      "text/plain": [
       "<matplotlib.figure.Figure at 0x16d77e860>"
      ]
     },
     "metadata": {},
     "output_type": "display_data"
    }
   ],
   "source": [
    "start = 0\n",
    "plt.plot(hist.history['loss'][start:])\n",
    "plt.plot(hist.history['val_loss'][start:])\n",
    "plt.legend(['Train loss', 'Validation loss'])"
   ]
  },
  {
   "cell_type": "code",
   "execution_count": 32,
   "metadata": {},
   "outputs": [
    {
     "name": "stdout",
     "output_type": "stream",
     "text": [
      "5346/5346 [==============================] - 0s 20us/step\n"
     ]
    },
    {
     "data": {
      "text/plain": [
       "[0.8166385593817469, 0.6647961092405537]"
      ]
     },
     "execution_count": 32,
     "metadata": {},
     "output_type": "execute_result"
    }
   ],
   "source": [
    "score = model.evaluate(ss.transform(X_test), to_categorical(y_test))\n",
    "score "
   ]
  },
  {
   "cell_type": "markdown",
   "metadata": {},
   "source": [
    "Модель стала сходиться лучше, но мы упёрлись в новую проблему. Поначалу качество модели на валидацим возростало. Спустя несколько эпох, качество натрэйне полжило расти, а на валидации стало падоть. Как вы помните, всё это является признаками переобучения. Попробуем дать переобучению бой.  \n",
    "\n",
    "## 3. Бои с переобучением\n",
    "\n",
    "Существует несколько способов по регуляризации нейронных сетей. \n",
    "\n",
    "* EarlyStopping\n",
    "* Dropout\n",
    "* $l_1$ и $l_2$ регуляризация \n",
    "\n",
    "\n",
    "Попробуем всего по немногу. \n",
    "\n",
    "### 3.1 Early stopping\n",
    "\n",
    "Одни сети сходятся за 5 эпох, другие не сходятся и за тысячу. Тренировать сетку в течение 1000 эпох, если она сходится за 5 - это не очень хорошая идея, так как качество на валидации начнает падать и модель переобучается. Давайте попробуем останавливать обучение модели, как только оценка качества модели на валидации падает в течение нескольких эпох. Например, пяти. "
   ]
  },
  {
   "cell_type": "code",
   "execution_count": null,
   "metadata": {},
   "outputs": [],
   "source": [
    "# Подгружаем раннюю остановку\n",
    "from keras.callbacks import EarlyStopping\n",
    "\n",
    "# Прикажем модели останавливать обучение, когда качество на валидации не будет улучшаться в течение двух эпох\n",
    "early_stopping_monitor = EarlyStopping(patience = 5)\n",
    "\n",
    "model = get_new_model( ) # Сбросим старые веса \n",
    "hist = model.fit(ss.fit_transform(X_train), to_categorical(y_train), validation_split=0.2, epochs=100, \n",
    "                  verbose=1, callbacks = [early_stopping_monitor])"
   ]
  },
  {
   "cell_type": "code",
   "execution_count": null,
   "metadata": {},
   "outputs": [],
   "source": [
    "start = 0\n",
    "plt.plot(hist.history['loss'][start:])\n",
    "plt.plot(hist.history['val_loss'][start:])\n",
    "plt.legend(['Train loss', 'Validation loss'])"
   ]
  },
  {
   "cell_type": "code",
   "execution_count": null,
   "metadata": {},
   "outputs": [],
   "source": [
    "score = model.evaluate(ss.transform(X_test), to_categorical(y_test))\n",
    "score "
   ]
  },
  {
   "cell_type": "markdown",
   "metadata": {},
   "source": [
    "### 3.2  Dropout \n",
    "\n",
    "Попробуем новые приколы, для которых нам придётся изменять архитектуру нашей модели. Добавим в модель дропаут. "
   ]
  },
  {
   "cell_type": "code",
   "execution_count": 33,
   "metadata": {},
   "outputs": [],
   "source": [
    "from keras.layers import Dropout\n",
    "\n",
    "model_dropout = Sequential( )\n",
    "\n",
    "# Первый слой \n",
    "model_dropout.add(L.Dense(25, input_dim = X_train.shape[1], kernel_initializer='random_normal'))\n",
    "model_dropout.add(Dropout(0.5)) # слой дропаута\n",
    "model_dropout.add(L.Activation('sigmoid'))\n",
    "\n",
    "# Второй слой \n",
    "model_dropout.add(L.Dense(25, kernel_initializer='random_normal'))\n",
    "model_dropout.add(Dropout(0.5))\n",
    "model_dropout.add(L.Activation('sigmoid'))\n",
    "\n",
    "\n",
    "# Выходной слой \n",
    "model_dropout.add(L.Dense(4, activation='softmax', kernel_initializer = 'random_normal'))\n",
    "\n",
    "# Собираем модель \n",
    "model_dropout.compile(loss = 'categorical_crossentropy', metrics=[\"accuracy\"], optimizer=opt.Adam(lr=1e-3))"
   ]
  },
  {
   "cell_type": "code",
   "execution_count": 34,
   "metadata": {
    "scrolled": true
   },
   "outputs": [
    {
     "name": "stdout",
     "output_type": "stream",
     "text": [
      "Train on 17106 samples, validate on 4277 samples\n",
      "Epoch 1/100\n",
      "17106/17106 [==============================] - 1s 77us/step - loss: 1.2007 - acc: 0.4757 - val_loss: 1.0374 - val_acc: 0.6128\n",
      "Epoch 2/100\n",
      "17106/17106 [==============================] - 1s 54us/step - loss: 1.0391 - acc: 0.6081 - val_loss: 0.9694 - val_acc: 0.6156\n",
      "Epoch 3/100\n",
      "17106/17106 [==============================] - 1s 57us/step - loss: 0.9918 - acc: 0.6079 - val_loss: 0.9345 - val_acc: 0.6189\n",
      "Epoch 4/100\n",
      "17106/17106 [==============================] - 1s 54us/step - loss: 0.9660 - acc: 0.6093 - val_loss: 0.9200 - val_acc: 0.6364\n",
      "Epoch 5/100\n",
      "17106/17106 [==============================] - 1s 56us/step - loss: 0.9444 - acc: 0.6172 - val_loss: 0.9045 - val_acc: 0.6385\n",
      "Epoch 6/100\n",
      "17106/17106 [==============================] - 1s 55us/step - loss: 0.9359 - acc: 0.6216 - val_loss: 0.9209 - val_acc: 0.6434\n",
      "Epoch 7/100\n",
      "17106/17106 [==============================] - 1s 56us/step - loss: 0.9288 - acc: 0.6252 - val_loss: 0.9140 - val_acc: 0.6346\n",
      "Epoch 8/100\n",
      "17106/17106 [==============================] - 1s 56us/step - loss: 0.9228 - acc: 0.6245 - val_loss: 0.9230 - val_acc: 0.6395\n",
      "Epoch 9/100\n",
      "17106/17106 [==============================] - 1s 56us/step - loss: 0.9235 - acc: 0.6246 - val_loss: 0.9266 - val_acc: 0.6413\n",
      "Epoch 10/100\n",
      "17106/17106 [==============================] - 1s 54us/step - loss: 0.9208 - acc: 0.6246 - val_loss: 0.9320 - val_acc: 0.6374\n",
      "Epoch 11/100\n",
      "17106/17106 [==============================] - 1s 55us/step - loss: 0.9196 - acc: 0.6258 - val_loss: 0.9169 - val_acc: 0.6411\n",
      "Epoch 12/100\n",
      "17106/17106 [==============================] - 1s 56us/step - loss: 0.9166 - acc: 0.6280 - val_loss: 0.9259 - val_acc: 0.6371\n",
      "Epoch 13/100\n",
      "17106/17106 [==============================] - 1s 54us/step - loss: 0.9176 - acc: 0.6284 - val_loss: 0.9224 - val_acc: 0.6353\n",
      "Epoch 14/100\n",
      "17106/17106 [==============================] - 1s 58us/step - loss: 0.9119 - acc: 0.6295 - val_loss: 0.9277 - val_acc: 0.6390\n",
      "Epoch 15/100\n",
      "17106/17106 [==============================] - 1s 52us/step - loss: 0.9146 - acc: 0.6255 - val_loss: 0.9203 - val_acc: 0.6353\n",
      "Epoch 16/100\n",
      "17106/17106 [==============================] - 1s 52us/step - loss: 0.9149 - acc: 0.6250 - val_loss: 0.9205 - val_acc: 0.6357\n",
      "Epoch 17/100\n",
      "17106/17106 [==============================] - 1s 51us/step - loss: 0.9061 - acc: 0.6291 - val_loss: 0.9251 - val_acc: 0.6367\n",
      "Epoch 18/100\n",
      "17106/17106 [==============================] - 1s 51us/step - loss: 0.9117 - acc: 0.6270 - val_loss: 0.9259 - val_acc: 0.6339\n",
      "Epoch 19/100\n",
      "17106/17106 [==============================] - 1s 50us/step - loss: 0.9136 - acc: 0.6278 - val_loss: 0.9195 - val_acc: 0.6350\n",
      "Epoch 20/100\n",
      "17106/17106 [==============================] - 1s 51us/step - loss: 0.9086 - acc: 0.6276 - val_loss: 0.9297 - val_acc: 0.6353\n",
      "Epoch 21/100\n",
      "17106/17106 [==============================] - 1s 51us/step - loss: 0.9062 - acc: 0.6280 - val_loss: 0.9297 - val_acc: 0.6329\n",
      "Epoch 22/100\n",
      "17106/17106 [==============================] - 1s 51us/step - loss: 0.9077 - acc: 0.6292 - val_loss: 0.9267 - val_acc: 0.6378\n",
      "Epoch 23/100\n",
      "17106/17106 [==============================] - 1s 51us/step - loss: 0.9063 - acc: 0.6253 - val_loss: 0.9202 - val_acc: 0.6367\n",
      "Epoch 24/100\n",
      "17106/17106 [==============================] - 1s 50us/step - loss: 0.9070 - acc: 0.6289 - val_loss: 0.9252 - val_acc: 0.6353\n",
      "Epoch 25/100\n",
      "17106/17106 [==============================] - 1s 51us/step - loss: 0.9029 - acc: 0.6273 - val_loss: 0.9280 - val_acc: 0.6336\n",
      "Epoch 26/100\n",
      "17106/17106 [==============================] - 1s 51us/step - loss: 0.9066 - acc: 0.6278 - val_loss: 0.9268 - val_acc: 0.6336\n",
      "Epoch 27/100\n",
      "17106/17106 [==============================] - 1s 51us/step - loss: 0.9041 - acc: 0.6289 - val_loss: 0.9262 - val_acc: 0.6346\n",
      "Epoch 28/100\n",
      "17106/17106 [==============================] - 1s 51us/step - loss: 0.9082 - acc: 0.6269 - val_loss: 0.9240 - val_acc: 0.6332\n",
      "Epoch 29/100\n",
      "17106/17106 [==============================] - 1s 51us/step - loss: 0.9077 - acc: 0.6273 - val_loss: 0.9293 - val_acc: 0.6376\n",
      "Epoch 30/100\n",
      "17106/17106 [==============================] - 1s 52us/step - loss: 0.9045 - acc: 0.6256 - val_loss: 0.9352 - val_acc: 0.6385\n",
      "Epoch 31/100\n",
      "17106/17106 [==============================] - 1s 53us/step - loss: 0.9034 - acc: 0.6295 - val_loss: 0.9279 - val_acc: 0.6350\n",
      "Epoch 32/100\n",
      "17106/17106 [==============================] - 1s 52us/step - loss: 0.9061 - acc: 0.6271 - val_loss: 0.9349 - val_acc: 0.6341\n",
      "Epoch 33/100\n",
      "17106/17106 [==============================] - 1s 51us/step - loss: 0.9054 - acc: 0.6294 - val_loss: 0.9234 - val_acc: 0.6360\n",
      "Epoch 34/100\n",
      "17106/17106 [==============================] - 1s 51us/step - loss: 0.9007 - acc: 0.6291 - val_loss: 0.9314 - val_acc: 0.6364\n",
      "Epoch 35/100\n",
      "17106/17106 [==============================] - 1s 51us/step - loss: 0.9021 - acc: 0.6315 - val_loss: 0.9335 - val_acc: 0.6362\n",
      "Epoch 36/100\n",
      "17106/17106 [==============================] - 1s 52us/step - loss: 0.9043 - acc: 0.6293 - val_loss: 0.9338 - val_acc: 0.6355\n",
      "Epoch 37/100\n",
      "17106/17106 [==============================] - 1s 51us/step - loss: 0.9001 - acc: 0.6291 - val_loss: 0.9295 - val_acc: 0.6367\n",
      "Epoch 38/100\n",
      "17106/17106 [==============================] - 1s 51us/step - loss: 0.9047 - acc: 0.6274 - val_loss: 0.9249 - val_acc: 0.6367\n",
      "Epoch 39/100\n",
      "17106/17106 [==============================] - 1s 51us/step - loss: 0.8971 - acc: 0.6328 - val_loss: 0.9373 - val_acc: 0.6348\n",
      "Epoch 40/100\n",
      "17106/17106 [==============================] - 1s 51us/step - loss: 0.9028 - acc: 0.6318 - val_loss: 0.9319 - val_acc: 0.6378\n",
      "Epoch 41/100\n",
      "17106/17106 [==============================] - 1s 51us/step - loss: 0.9031 - acc: 0.6243 - val_loss: 0.9259 - val_acc: 0.6339\n",
      "Epoch 42/100\n",
      "17106/17106 [==============================] - 1s 50us/step - loss: 0.8985 - acc: 0.6280 - val_loss: 0.9307 - val_acc: 0.6364\n",
      "Epoch 43/100\n",
      "17106/17106 [==============================] - 1s 51us/step - loss: 0.9018 - acc: 0.6301 - val_loss: 0.9397 - val_acc: 0.6355\n",
      "Epoch 44/100\n",
      "17106/17106 [==============================] - 1s 51us/step - loss: 0.9007 - acc: 0.6301 - val_loss: 0.9332 - val_acc: 0.6353\n",
      "Epoch 45/100\n",
      "17106/17106 [==============================] - 1s 51us/step - loss: 0.8996 - acc: 0.6316 - val_loss: 0.9263 - val_acc: 0.6381\n",
      "Epoch 46/100\n",
      "17106/17106 [==============================] - 1s 51us/step - loss: 0.9012 - acc: 0.6277 - val_loss: 0.9322 - val_acc: 0.6392\n",
      "Epoch 47/100\n",
      "17106/17106 [==============================] - 1s 51us/step - loss: 0.8966 - acc: 0.6324 - val_loss: 0.9293 - val_acc: 0.6392\n",
      "Epoch 48/100\n",
      "17106/17106 [==============================] - 1s 51us/step - loss: 0.9010 - acc: 0.6322 - val_loss: 0.9266 - val_acc: 0.6388\n",
      "Epoch 49/100\n",
      "17106/17106 [==============================] - 1s 51us/step - loss: 0.8992 - acc: 0.6293 - val_loss: 0.9294 - val_acc: 0.6404\n",
      "Epoch 50/100\n",
      "17106/17106 [==============================] - 1s 51us/step - loss: 0.8948 - acc: 0.6274 - val_loss: 0.9275 - val_acc: 0.6423\n",
      "Epoch 51/100\n",
      "17106/17106 [==============================] - 1s 51us/step - loss: 0.8959 - acc: 0.6361 - val_loss: 0.9335 - val_acc: 0.6385\n",
      "Epoch 52/100\n",
      "17106/17106 [==============================] - 1s 51us/step - loss: 0.8989 - acc: 0.6330 - val_loss: 0.9317 - val_acc: 0.6353\n",
      "Epoch 53/100\n",
      "17106/17106 [==============================] - 1s 52us/step - loss: 0.9002 - acc: 0.6278 - val_loss: 0.9290 - val_acc: 0.6383\n",
      "Epoch 54/100\n",
      "17106/17106 [==============================] - 1s 52us/step - loss: 0.8955 - acc: 0.6326 - val_loss: 0.9415 - val_acc: 0.6341\n",
      "Epoch 55/100\n",
      "17106/17106 [==============================] - 1s 53us/step - loss: 0.8968 - acc: 0.6295 - val_loss: 0.9265 - val_acc: 0.6369\n",
      "Epoch 56/100\n",
      "17106/17106 [==============================] - 1s 53us/step - loss: 0.8975 - acc: 0.6319 - val_loss: 0.9336 - val_acc: 0.6367\n",
      "Epoch 57/100\n",
      "17106/17106 [==============================] - 1s 53us/step - loss: 0.8959 - acc: 0.6314 - val_loss: 0.9259 - val_acc: 0.6395\n",
      "Epoch 58/100\n",
      "17106/17106 [==============================] - 1s 52us/step - loss: 0.8967 - acc: 0.6342 - val_loss: 0.9344 - val_acc: 0.6378\n",
      "Epoch 59/100\n"
     ]
    },
    {
     "name": "stdout",
     "output_type": "stream",
     "text": [
      "17106/17106 [==============================] - 1s 50us/step - loss: 0.9003 - acc: 0.6319 - val_loss: 0.9335 - val_acc: 0.6409\n",
      "Epoch 60/100\n",
      "17106/17106 [==============================] - 1s 51us/step - loss: 0.8986 - acc: 0.6289 - val_loss: 0.9266 - val_acc: 0.6402\n",
      "Epoch 61/100\n",
      "17106/17106 [==============================] - 1s 51us/step - loss: 0.8959 - acc: 0.6321 - val_loss: 0.9325 - val_acc: 0.6383\n",
      "Epoch 62/100\n",
      "17106/17106 [==============================] - 1s 52us/step - loss: 0.8971 - acc: 0.6318 - val_loss: 0.9295 - val_acc: 0.6320\n",
      "Epoch 63/100\n",
      "17106/17106 [==============================] - 1s 51us/step - loss: 0.8923 - acc: 0.6283 - val_loss: 0.9427 - val_acc: 0.6367\n",
      "Epoch 64/100\n",
      "17106/17106 [==============================] - 1s 51us/step - loss: 0.8932 - acc: 0.6367 - val_loss: 0.9328 - val_acc: 0.6409\n",
      "Epoch 65/100\n",
      "17106/17106 [==============================] - 1s 51us/step - loss: 0.8950 - acc: 0.6318 - val_loss: 0.9347 - val_acc: 0.6376\n",
      "Epoch 66/100\n",
      "17106/17106 [==============================] - 1s 51us/step - loss: 0.8959 - acc: 0.6303 - val_loss: 0.9417 - val_acc: 0.6348\n",
      "Epoch 67/100\n",
      "17106/17106 [==============================] - 1s 51us/step - loss: 0.8977 - acc: 0.6296 - val_loss: 0.9249 - val_acc: 0.6383\n",
      "Epoch 68/100\n",
      "17106/17106 [==============================] - 1s 50us/step - loss: 0.8957 - acc: 0.6283 - val_loss: 0.9233 - val_acc: 0.6418\n",
      "Epoch 69/100\n",
      "17106/17106 [==============================] - 1s 51us/step - loss: 0.8939 - acc: 0.6308 - val_loss: 0.9342 - val_acc: 0.6362\n",
      "Epoch 70/100\n",
      "17106/17106 [==============================] - 1s 53us/step - loss: 0.8974 - acc: 0.6298 - val_loss: 0.9269 - val_acc: 0.6437\n",
      "Epoch 71/100\n",
      "17106/17106 [==============================] - 1s 54us/step - loss: 0.8968 - acc: 0.6302 - val_loss: 0.9447 - val_acc: 0.6364\n",
      "Epoch 72/100\n",
      "17106/17106 [==============================] - 1s 52us/step - loss: 0.8915 - acc: 0.6315 - val_loss: 0.9233 - val_acc: 0.6371\n",
      "Epoch 73/100\n",
      "17106/17106 [==============================] - 1s 53us/step - loss: 0.8962 - acc: 0.6284 - val_loss: 0.9446 - val_acc: 0.6355\n",
      "Epoch 74/100\n",
      "17106/17106 [==============================] - 1s 52us/step - loss: 0.8982 - acc: 0.6305 - val_loss: 0.9275 - val_acc: 0.6390\n",
      "Epoch 75/100\n",
      "17106/17106 [==============================] - 1s 51us/step - loss: 0.8936 - acc: 0.6294 - val_loss: 0.9353 - val_acc: 0.6388\n",
      "Epoch 76/100\n",
      "17106/17106 [==============================] - 1s 50us/step - loss: 0.8988 - acc: 0.6333 - val_loss: 0.9306 - val_acc: 0.6411\n",
      "Epoch 77/100\n",
      "17106/17106 [==============================] - 1s 51us/step - loss: 0.8908 - acc: 0.6320 - val_loss: 0.9337 - val_acc: 0.6362\n",
      "Epoch 78/100\n",
      "17106/17106 [==============================] - 1s 51us/step - loss: 0.8940 - acc: 0.6339 - val_loss: 0.9351 - val_acc: 0.6353\n",
      "Epoch 79/100\n",
      "17106/17106 [==============================] - 1s 51us/step - loss: 0.8966 - acc: 0.6322 - val_loss: 0.9331 - val_acc: 0.6423\n",
      "Epoch 80/100\n",
      "17106/17106 [==============================] - 1s 51us/step - loss: 0.8922 - acc: 0.6302 - val_loss: 0.9475 - val_acc: 0.6416\n",
      "Epoch 81/100\n",
      "17106/17106 [==============================] - 1s 52us/step - loss: 0.8914 - acc: 0.6331 - val_loss: 0.9360 - val_acc: 0.6369\n",
      "Epoch 82/100\n",
      "17106/17106 [==============================] - 1s 52us/step - loss: 0.8961 - acc: 0.6305 - val_loss: 0.9348 - val_acc: 0.6371\n",
      "Epoch 83/100\n",
      "17106/17106 [==============================] - 1s 51us/step - loss: 0.8925 - acc: 0.6319 - val_loss: 0.9396 - val_acc: 0.6427\n",
      "Epoch 84/100\n",
      "17106/17106 [==============================] - 1s 51us/step - loss: 0.8937 - acc: 0.6318 - val_loss: 0.9258 - val_acc: 0.6399\n",
      "Epoch 85/100\n",
      "17106/17106 [==============================] - 1s 51us/step - loss: 0.8945 - acc: 0.6314 - val_loss: 0.9448 - val_acc: 0.6369\n",
      "Epoch 86/100\n",
      "17106/17106 [==============================] - 1s 51us/step - loss: 0.8882 - acc: 0.6332 - val_loss: 0.9352 - val_acc: 0.6427\n",
      "Epoch 87/100\n",
      "17106/17106 [==============================] - 1s 51us/step - loss: 0.8936 - acc: 0.6300 - val_loss: 0.9231 - val_acc: 0.6409\n",
      "Epoch 88/100\n",
      "17106/17106 [==============================] - 1s 51us/step - loss: 0.8907 - acc: 0.6310 - val_loss: 0.9385 - val_acc: 0.6371\n",
      "Epoch 89/100\n",
      "17106/17106 [==============================] - 1s 51us/step - loss: 0.8925 - acc: 0.6318 - val_loss: 0.9284 - val_acc: 0.6388\n",
      "Epoch 90/100\n",
      "17106/17106 [==============================] - 1s 51us/step - loss: 0.8892 - acc: 0.6311 - val_loss: 0.9398 - val_acc: 0.6451\n",
      "Epoch 91/100\n",
      "17106/17106 [==============================] - 1s 51us/step - loss: 0.8901 - acc: 0.6327 - val_loss: 0.9382 - val_acc: 0.6301\n",
      "Epoch 92/100\n",
      "17106/17106 [==============================] - 1s 51us/step - loss: 0.9001 - acc: 0.6267 - val_loss: 0.9269 - val_acc: 0.6439\n",
      "Epoch 93/100\n",
      "17106/17106 [==============================] - 1s 53us/step - loss: 0.8899 - acc: 0.6356 - val_loss: 0.9309 - val_acc: 0.6390\n",
      "Epoch 94/100\n",
      "17106/17106 [==============================] - 1s 52us/step - loss: 0.8902 - acc: 0.6314 - val_loss: 0.9381 - val_acc: 0.6420\n",
      "Epoch 95/100\n",
      "17106/17106 [==============================] - 1s 52us/step - loss: 0.8932 - acc: 0.6331 - val_loss: 0.9263 - val_acc: 0.6390\n",
      "Epoch 96/100\n",
      "17106/17106 [==============================] - 1s 53us/step - loss: 0.8917 - acc: 0.6322 - val_loss: 0.9291 - val_acc: 0.6399\n",
      "Epoch 97/100\n",
      "17106/17106 [==============================] - 1s 52us/step - loss: 0.8922 - acc: 0.6313 - val_loss: 0.9358 - val_acc: 0.6420\n",
      "Epoch 98/100\n",
      "17106/17106 [==============================] - 1s 52us/step - loss: 0.8923 - acc: 0.6336 - val_loss: 0.9325 - val_acc: 0.6371\n",
      "Epoch 99/100\n",
      "17106/17106 [==============================] - 1s 51us/step - loss: 0.8885 - acc: 0.6338 - val_loss: 0.9346 - val_acc: 0.6399\n",
      "Epoch 100/100\n",
      "17106/17106 [==============================] - 1s 52us/step - loss: 0.8924 - acc: 0.6293 - val_loss: 0.9291 - val_acc: 0.6388\n"
     ]
    }
   ],
   "source": [
    "# Прикажем модели останавливать обучение, когда качество на валидации не будет улучшаться в течение двух эпох\n",
    "hist = model_dropout.fit(ss.fit_transform(X_train), to_categorical(y_train), \n",
    "                         validation_split=0.2, epochs=100, verbose=1)"
   ]
  },
  {
   "cell_type": "code",
   "execution_count": 35,
   "metadata": {},
   "outputs": [
    {
     "data": {
      "text/plain": [
       "<matplotlib.legend.Legend at 0x16eaeb358>"
      ]
     },
     "execution_count": 35,
     "metadata": {},
     "output_type": "execute_result"
    },
    {
     "data": {
      "image/png": "[encoded data removed]",
      "text/plain": [
       "<matplotlib.figure.Figure at 0x16e73b0f0>"
      ]
     },
     "metadata": {},
     "output_type": "display_data"
    }
   ],
   "source": [
    "start = 0\n",
    "plt.plot(hist.history['loss'][start:])\n",
    "plt.plot(hist.history['val_loss'][start:])\n",
    "plt.legend(['Train loss', 'Validation loss'])"
   ]
  },
  {
   "cell_type": "code",
   "execution_count": 36,
   "metadata": {},
   "outputs": [
    {
     "name": "stdout",
     "output_type": "stream",
     "text": [
      "5346/5346 [==============================] - 0s 21us/step\n"
     ]
    },
    {
     "data": {
      "text/plain": [
       "[0.9669579865443675, 0.6333707444818556]"
      ]
     },
     "execution_count": 36,
     "metadata": {},
     "output_type": "execute_result"
    }
   ],
   "source": [
    "score = model_dropout.evaluate(ss.transform(X_test), to_categorical(y_test))\n",
    "score "
   ]
  },
  {
   "cell_type": "code",
   "execution_count": 37,
   "metadata": {},
   "outputs": [
    {
     "name": "stdout",
     "output_type": "stream",
     "text": [
      "The Zen of Python, by Tim Peters\n",
      "\n",
      "Beautiful is better than ugly.\n",
      "Explicit is better than implicit.\n",
      "Simple is better than complex.\n",
      "Complex is better than complicated.\n",
      "Flat is better than nested.\n",
      "Sparse is better than dense.\n",
      "Readability counts.\n",
      "Special cases aren't special enough to break the rules.\n",
      "Although practicality beats purity.\n",
      "Errors should never pass silently.\n",
      "Unless explicitly silenced.\n",
      "In the face of ambiguity, refuse the temptation to guess.\n",
      "There should be one-- and preferably only one --obvious way to do it.\n",
      "Although that way may not be obvious at first unless you're Dutch.\n",
      "Now is better than never.\n",
      "Although never is often better than *right* now.\n",
      "If the implementation is hard to explain, it's a bad idea.\n",
      "If the implementation is easy to explain, it may be a good idea.\n",
      "Namespaces are one honking great idea -- let's do more of those!\n"
     ]
    }
   ],
   "source": [
    "import this"
   ]
  },
  {
   "cell_type": "markdown",
   "metadata": {},
   "source": [
    "### Различные воспитательные трюки \n",
    "\n",
    "1. Начните с маленькой сети. Не забывайте прикидывать сколько наблдюдений $n$ тратится на оценку каждого из $k$ параметров. Если величина $\\frac{n}{k}$ очень маленькая, то не может идти речи об адекватных оценках параметров!  \n",
    "2. Всегда оставляйте часть выборки под валидацию на каждой эпохе.\n",
    "3. Усложняйте модель, пока качество на валидации не начнёт падать.\n",
    "4. Не забывайте проскалировать ваши наблюдения для лучшей сходимости. \n",
    "5. Можно попробовать ещё целую серию различных **трюков**: \n",
    "\n",
    "\n",
    "* __Архитектура нейросети__\n",
    "    * Больше/меньше нейронов\n",
    "    * Больше/меньше слоёв \n",
    "    * Другие функции активации (tanh, relu, leaky relu, etc) \n",
    "    * Регуляризация (dropout, l1,l2) \n",
    "\n",
    "\n",
    "* __Более качественная оптимизация__  \n",
    "    * Можно попробовать выбрать другой метод оптимизации \n",
    "    * Можно попробовать менять скорость обучения, моментум и др.\n",
    "\n",
    "\n",
    "* __Попробовать собрать больше данных__ \n",
    "* __Для случая картинок объёмы данных можно увеличить искусственно с помощью подхода, который называется Data augmemntation, но об этом позже__\n",
    "\n",
    "И это далеко не полный список. Обратите внимание, что делать grid_search для больших сеток это довольно времязатратное занятие... "
   ]
  }
 ],
 "metadata": {
  "kernelspec": {
   "display_name": "Python 3",
   "language": "python",
   "name": "python3"
  },
  "language_info": {
   "codemirror_mode": {
    "name": "ipython",
    "version": 3
   },
   "file_extension": ".py",
   "mimetype": "text/x-python",
   "name": "python",
   "nbconvert_exporter": "python",
   "pygments_lexer": "ipython3",
   "version": "3.6.4"
  }
 },
 "nbformat": 4,
 "nbformat_minor": 2
}
