{
 "cells": [
  {
   "cell_type": "markdown",
   "metadata": {},
   "source": [
    "![](http://samyzaf.com/ML/imdb/imdb2.png)\n",
    "\n",
    "# Анализ тональности и word2vec сетки"
   ]
  },
  {
   "cell_type": "code",
   "execution_count": 2,
   "metadata": {},
   "outputs": [],
   "source": [
    "import numpy as np\n",
    "from keras.datasets import imdb\n",
    "from keras.models import Sequential\n",
    "from keras.layers import Dense, LSTM, Dropout, Conv1D, MaxPooling1D\n",
    "from keras.layers.embeddings import Embedding\n",
    "from keras.preprocessing import sequence\n",
    "\n",
    "import matplotlib.pyplot as plt\n",
    "%matplotlib inline\n",
    "\n",
    "# выбрали random seed для воспроизводимости\n",
    "np.random.seed(1337)"
   ]
  },
  {
   "cell_type": "code",
   "execution_count": 3,
   "metadata": {},
   "outputs": [
    {
     "name": "stdout",
     "output_type": "stream",
     "text": [
      "25000 train sequences\n",
      "25000 test sequences\n",
      "[1, 14, 22, 16, 43, 530, 973, 1622, 1385, 65, 458, 4468, 66, 3941, 4, 173, 36, 256, 5, 25]\n"
     ]
    }
   ],
   "source": [
    "top_words = 5000             # ограниичимся словарём из 5000 самых частых слов\n",
    "max_review_length = 500      # обрежем все отзывы до 500 слов\n",
    "embedding_vector_length = 32 # размерность эмбендинга\n",
    "\n",
    "(X_train, y_train), (X_test, y_test) = imdb.load_data(num_words = top_words)\n",
    "\n",
    "print(len(X_train), 'train sequences')\n",
    "print(len(X_test), 'test sequences')\n",
    "\n",
    "# как выглядит вектор\n",
    "print(X_train[0][:20])"
   ]
  },
  {
   "cell_type": "markdown",
   "metadata": {},
   "source": [
    "В нашей базе данных все слова представлены в виде целых чисел. Каждое целое число эквивалентно какому-то определённому слову из отзыва.\n",
    "\n",
    "![](http://samyzaf.com/ML/imdb/review1.png)"
   ]
  },
  {
   "cell_type": "markdown",
   "metadata": {},
   "source": [
    "Если отзыв меньше 500 слов, дополним его до 500 пустотами. Это необходимо для корректной работы сетки."
   ]
  },
  {
   "cell_type": "code",
   "execution_count": 5,
   "metadata": {},
   "outputs": [
    {
     "name": "stdout",
     "output_type": "stream",
     "text": [
      "X_train shape: (25000, 500)\n",
      "X_test shape: (25000, 500)\n",
      "[0 0 0 0 0 0 0 0 0 0 0 0 0 0 0 0 0 0 0 0]\n"
     ]
    }
   ],
   "source": [
    "X_train = sequence.pad_sequences(X_train, maxlen=max_review_length)\n",
    "X_test = sequence.pad_sequences(X_test, maxlen=max_review_length)\n",
    "\n",
    "print('X_train shape:', X_train.shape)\n",
    "print('X_test shape:', X_test.shape)\n",
    "print(X_train[0][:20])"
   ]
  },
  {
   "cell_type": "markdown",
   "metadata": {},
   "source": [
    "![](http://samyzaf.com/ML/imdb/cnn4.png)"
   ]
  },
  {
   "cell_type": "markdown",
   "metadata": {},
   "source": [
    "## Первая сетка! \n",
    "\n",
    "Эмбединг + LSTM"
   ]
  },
  {
   "cell_type": "code",
   "execution_count": 6,
   "metadata": {},
   "outputs": [
    {
     "name": "stdout",
     "output_type": "stream",
     "text": [
      "Train on 20000 samples, validate on 5000 samples\n",
      "Epoch 1/15\n",
      "20000/20000 [==============================] - 303s 15ms/step - loss: 0.4770 - acc: 0.7673 - val_loss: 0.3742 - val_acc: 0.8386\n",
      "Epoch 2/15\n",
      "20000/20000 [==============================] - 285s 14ms/step - loss: 0.3324 - acc: 0.8616 - val_loss: 0.4588 - val_acc: 0.7860\n",
      "Epoch 3/15\n",
      "20000/20000 [==============================] - 285s 14ms/step - loss: 0.2776 - acc: 0.8912 - val_loss: 0.3365 - val_acc: 0.8556\n",
      "Epoch 4/15\n",
      "20000/20000 [==============================] - 286s 14ms/step - loss: 0.2427 - acc: 0.9074 - val_loss: 0.3457 - val_acc: 0.8696\n",
      "Epoch 5/15\n",
      "20000/20000 [==============================] - 290s 14ms/step - loss: 0.2670 - acc: 0.8910 - val_loss: 0.3879 - val_acc: 0.8588\n",
      "Epoch 6/15\n",
      "20000/20000 [==============================] - 308s 15ms/step - loss: 0.2023 - acc: 0.9231 - val_loss: 0.3465 - val_acc: 0.8598\n",
      "Epoch 7/15\n",
      "20000/20000 [==============================] - 298s 15ms/step - loss: 0.1909 - acc: 0.9248 - val_loss: 0.3577 - val_acc: 0.8560\n",
      "Epoch 8/15\n",
      "20000/20000 [==============================] - 308s 15ms/step - loss: 0.1504 - acc: 0.9449 - val_loss: 0.3961 - val_acc: 0.8664\n",
      "Epoch 9/15\n",
      "20000/20000 [==============================] - 296s 15ms/step - loss: 0.1354 - acc: 0.9516 - val_loss: 0.4139 - val_acc: 0.8588\n",
      "Epoch 10/15\n",
      "20000/20000 [==============================] - 294s 15ms/step - loss: 0.1146 - acc: 0.9578 - val_loss: 0.4386 - val_acc: 0.8620\n",
      "Epoch 11/15\n",
      "20000/20000 [==============================] - 293s 15ms/step - loss: 0.1377 - acc: 0.9490 - val_loss: 0.4681 - val_acc: 0.8548\n",
      "Epoch 12/15\n",
      "20000/20000 [==============================] - 296s 15ms/step - loss: 0.1461 - acc: 0.9435 - val_loss: 0.4756 - val_acc: 0.8522\n",
      "Epoch 13/15\n",
      "20000/20000 [==============================] - 310s 15ms/step - loss: 0.0886 - acc: 0.9698 - val_loss: 0.5379 - val_acc: 0.8568\n",
      "Epoch 14/15\n",
      "20000/20000 [==============================] - 307s 15ms/step - loss: 0.1036 - acc: 0.9639 - val_loss: 0.4957 - val_acc: 0.8476\n",
      "Epoch 15/15\n",
      "20000/20000 [==============================] - 301s 15ms/step - loss: 0.0758 - acc: 0.9720 - val_loss: 0.5278 - val_acc: 0.8528\n",
      "Accuracy: 0.8553\n"
     ]
    }
   ],
   "source": [
    "model = Sequential()\n",
    "model.add(Embedding(top_words, embedding_vector_length, input_length=max_review_length))\n",
    "model.add(Dropout(0.2))\n",
    "model.add(LSTM(100))\n",
    "model.add(Dropout(0.2))\n",
    "model.add(Dense(1, activation='sigmoid'))\n",
    "\n",
    "model.compile(loss='binary_crossentropy', optimizer='adam', metrics=['accuracy'])\n",
    "hist = model.fit(X_train, y_train, validation_split=0.2, epochs=15, batch_size=32)\n",
    "scores = model.evaluate(X_test, y_test, verbose=0)\n",
    "print('Accuracy: %.4f'%(scores[1]))"
   ]
  },
  {
   "cell_type": "code",
   "execution_count": 7,
   "metadata": {},
   "outputs": [
    {
     "data": {
      "text/plain": [
       "<matplotlib.legend.Legend at 0x125291630>"
      ]
     },
     "execution_count": 7,
     "metadata": {},
     "output_type": "execute_result"
    },
    {
     "data": {
      "image/png": "[encoded data removed]",
      "text/plain": [
       "<matplotlib.figure.Figure at 0x120d924e0>"
      ]
     },
     "metadata": {},
     "output_type": "display_data"
    }
   ],
   "source": [
    "plt.plot(hist.history['loss'])\n",
    "plt.plot(hist.history['val_loss'])\n",
    "plt.legend(['Train loss', 'Validation loss'])"
   ]
  },
  {
   "cell_type": "markdown",
   "metadata": {},
   "source": [
    "## Вторая сетка! \n",
    "\n",
    "Добавили свёрточный слой 1x1"
   ]
  },
  {
   "cell_type": "code",
   "execution_count": 8,
   "metadata": {},
   "outputs": [
    {
     "name": "stdout",
     "output_type": "stream",
     "text": [
      "Train on 20000 samples, validate on 5000 samples\n",
      "Epoch 1/5\n",
      "20000/20000 [==============================] - 157s 8ms/step - loss: 0.4181 - acc: 0.7989 - val_loss: 0.3189 - val_acc: 0.8706\n",
      "Epoch 2/5\n",
      "20000/20000 [==============================] - 155s 8ms/step - loss: 0.2487 - acc: 0.9021 - val_loss: 0.3000 - val_acc: 0.8714\n",
      "Epoch 3/5\n",
      "20000/20000 [==============================] - 154s 8ms/step - loss: 0.1913 - acc: 0.9274 - val_loss: 0.2913 - val_acc: 0.8818\n",
      "Epoch 4/5\n",
      "20000/20000 [==============================] - 155s 8ms/step - loss: 0.1572 - acc: 0.9440 - val_loss: 0.3100 - val_acc: 0.8832\n",
      "Epoch 5/5\n",
      "20000/20000 [==============================] - 156s 8ms/step - loss: 0.1275 - acc: 0.9551 - val_loss: 0.3407 - val_acc: 0.8746\n",
      "Accuracy: 0.8705\n"
     ]
    }
   ],
   "source": [
    "model = Sequential()\n",
    "model.add(Embedding(top_words, embedding_vector_length, input_length=max_review_length))\n",
    "model.add(Conv1D(filters=32, kernel_size=3, padding='same', activation='relu'))\n",
    "model.add(MaxPooling1D(pool_size=2))\n",
    "model.add(LSTM(100))\n",
    "model.add(Dense(1, activation='sigmoid'))\n",
    "\n",
    "model.compile(loss='binary_crossentropy', optimizer='adam', metrics=['accuracy'])\n",
    "hist = model.fit(X_train, y_train, validation_split=0.2, epochs=5, batch_size=32)\n",
    "scores = model.evaluate(X_test, y_test, verbose=0)\n",
    "print('Accuracy: %.4f'%(scores[1]))"
   ]
  },
  {
   "cell_type": "code",
   "execution_count": 9,
   "metadata": {},
   "outputs": [
    {
     "data": {
      "text/plain": [
       "<matplotlib.legend.Legend at 0x128cb6630>"
      ]
     },
     "execution_count": 9,
     "metadata": {},
     "output_type": "execute_result"
    },
    {
     "data": {
      "image/png": "[encoded data removed]",
      "text/plain": [
       "<matplotlib.figure.Figure at 0x1252917b8>"
      ]
     },
     "metadata": {},
     "output_type": "display_data"
    }
   ],
   "source": [
    "plt.plot(hist.history['loss'])\n",
    "plt.plot(hist.history['val_loss'])\n",
    "plt.legend(['Train loss', 'Validation loss'])"
   ]
  },
  {
   "cell_type": "markdown",
   "metadata": {},
   "source": [
    "## Дополнительное чтиво: \n",
    "\n",
    "* [Статья с хабра про w2v.](https://habr.com/company/ods/blog/329410/) Там есть пример работы с переходами по сайтам, по аналогии можно работать с транзакциями. \n",
    "* [Ещё одна статья](https://habr.com/company/dca/blog/274027/) про LSTM и звёздные войны."
   ]
  }
 ],
 "metadata": {
  "kernelspec": {
   "display_name": "Python 3",
   "language": "python",
   "name": "python3"
  },
  "language_info": {
   "codemirror_mode": {
    "name": "ipython",
    "version": 3
   },
   "file_extension": ".py",
   "mimetype": "text/x-python",
   "name": "python",
   "nbconvert_exporter": "python",
   "pygments_lexer": "ipython3",
   "version": "3.6.4"
  }
 },
 "nbformat": 4,
 "nbformat_minor": 2
}
